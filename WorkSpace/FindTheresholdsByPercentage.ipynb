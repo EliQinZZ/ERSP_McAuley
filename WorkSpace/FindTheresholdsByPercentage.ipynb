{
 "cells": [
  {
   "cell_type": "code",
   "execution_count": 1,
   "metadata": {
    "collapsed": true
   },
   "outputs": [],
   "source": [
    "import gzip\n",
    "import os\n",
    "import numpy"
   ]
  },
  {
   "cell_type": "code",
   "execution_count": 2,
   "metadata": {
    "collapsed": true
   },
   "outputs": [],
   "source": [
    "def findThreshold(entryList, portion):\n",
    "    sortedList = sorted(entryList)\n",
    "    \n",
    "    lowPercentage = ( (100 - portion) / 2 ) / 100\n",
    "    highPercentage = ( (100 - portion) / 2 + portion) / 100\n",
    "    \n",
    "    lowIndex = int(len(sortedList) * lowPercentage)\n",
    "    highIndex = int(len(sortedList) * highPercentage)\n",
    "    \n",
    "    lowBound = sortedList[lowIndex]\n",
    "    highBound = sortedList[highIndex]\n",
    "    \n",
    "    return [lowBound, highBound]    "
   ]
  },
  {
   "cell_type": "code",
   "execution_count": 3,
   "metadata": {
    "collapsed": true
   },
   "outputs": [],
   "source": [
    "def formLists(inFile):\n",
    "    \n",
    "    listDic = {}\n",
    "    listDic['heart_rate.min'] = []\n",
    "    listDic['heart_rate.max'] = []\n",
    "    listDic['speed.min'] = []\n",
    "    listDic['speed.max'] = []\n",
    "    \n",
    "    for l in inFile:\n",
    "        l = l.decode('ascii')\n",
    "        dic = eval(l)\n",
    "        \n",
    "        if 'speed' not in dic:\n",
    "            continue;\n",
    "        if 'heart_rate' not in dic:\n",
    "            continue;\n",
    "\n",
    "        listDic['heart_rate.min'].append(numpy.amin(dic['heart_rate']))\n",
    "        listDic['heart_rate.max'].append(numpy.amax(dic['heart_rate']))\n",
    "        listDic['speed.min'].append(numpy.amin(dic['speed']))\n",
    "        listDic['speed.max'].append(numpy.amax(dic['speed'])) \n",
    "    \n",
    "    return listDic"
   ]
  },
  {
   "cell_type": "code",
   "execution_count": 6,
   "metadata": {
    "collapsed": false
   },
   "outputs": [
    {
     "name": "stdout",
     "output_type": "stream",
     "text": [
      "Processing bike (transport).json.gz\n",
      "Processing bike.json.gz\n",
      "Processing core stability training.json.gz\n",
      "Processing indoor cycling.json.gz\n",
      "Processing mountain bike.json.gz\n",
      "Processing orienteering.json.gz\n",
      "Processing run.json.gz\n",
      "Processing walk.json.gz\n"
     ]
    }
   ],
   "source": [
    "thresholds = {}\n",
    "\n",
    "for f in os.listdir(path = '../Data'):\n",
    "    zin = gzip.open('../Data/' + f, 'r')\n",
    "    print('Processing ' + f)\n",
    "    sport = f.split('.')[0]\n",
    "    thresholds[sport] = {}\n",
    "    listDic = formLists(zin)\n",
    "    \n",
    "    for key, value in listDic.items():\n",
    "        thresholds[sport][key] = findThreshold(value, 96)\n",
    "        \n",
    "    zin.close()"
   ]
  },
  {
   "cell_type": "code",
   "execution_count": 8,
   "metadata": {
    "collapsed": false
   },
   "outputs": [
    {
     "name": "stdout",
     "output_type": "stream",
     "text": [
      "{'run': {'heart_rate.max': [129, 204], 'heart_rate.min': [58, 145], 'speed.max': [9.8171999999999997, 50.957999999999998], 'speed.min': [0.0, 9.9108000000000001]}, 'bike': {'heart_rate.max': [113, 207], 'heart_rate.min': [60, 131], 'speed.max': [16.603200000000001, 70.009200000000007], 'speed.min': [0.0, 16.225200000000001]}, 'walk': {'heart_rate.max': [91, 188], 'heart_rate.min': [60, 122], 'speed.max': [5.508, 40.712400000000002], 'speed.min': [0.0, 5.6375999999999999]}, 'mountain bike': {'heart_rate.max': [125, 202], 'heart_rate.min': [56, 131], 'speed.max': [21.517199999999999, 65.851200000000006], 'speed.min': [0.0, 7.9379999999999997]}, 'indoor cycling': {'heart_rate.max': [110, 192], 'heart_rate.min': [63, 122], 'speed.max': [0.0, 70.729200000000006], 'speed.min': [0.0, 31.8276]}, 'bike (transport)': {'heart_rate.max': [114, 189], 'heart_rate.min': [60, 122], 'speed.max': [20.545200000000001, 57.268799999999999], 'speed.min': [0.0, 7.7652000000000001]}, 'core stability training': {'heart_rate.max': [74, 190], 'heart_rate.min': [60, 172], 'speed.max': [0.0, 226.63399999999999], 'speed.min': [0.0, 18.5076]}, 'orienteering': {'heart_rate.max': [99, 236], 'heart_rate.min': [60, 155], 'speed.max': [8.1791999999999998, 45.0], 'speed.min': [0.13320000000000001, 4.8708]}}\n"
     ]
    }
   ],
   "source": [
    "print(thresholds)"
   ]
  },
  {
   "cell_type": "code",
   "execution_count": null,
   "metadata": {
    "collapsed": true
   },
   "outputs": [],
   "source": [
    "\n"
   ]
  }
 ],
 "metadata": {
  "anaconda-cloud": {},
  "kernelspec": {
   "display_name": "Python [default]",
   "language": "python",
   "name": "python3"
  },
  "language_info": {
   "codemirror_mode": {
    "name": "ipython",
    "version": 3
   },
   "file_extension": ".py",
   "mimetype": "text/x-python",
   "name": "python",
   "nbconvert_exporter": "python",
   "pygments_lexer": "ipython3",
   "version": "3.5.2"
  }
 },
 "nbformat": 4,
 "nbformat_minor": 1
}
