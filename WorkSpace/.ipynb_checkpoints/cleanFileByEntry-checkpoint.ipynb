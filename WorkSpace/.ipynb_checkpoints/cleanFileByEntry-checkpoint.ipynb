{
 "cells": [
  {
   "cell_type": "code",
   "execution_count": 1,
   "metadata": {
    "collapsed": true
   },
   "outputs": [],
   "source": [
    "import gzip\n",
    "import os\n",
    "import numpy"
   ]
  },
  {
   "cell_type": "code",
   "execution_count": null,
   "metadata": {
    "collapsed": true
   },
   "outputs": [],
   "source": [
    "def checkAvgSpeed(workout, low_bound, high_bound):\n",
    "    fout = open('result2', 'ab')\n",
    "    if type(workout) is not dict:\n",
    "        return False\n",
    "    if 'speed' not in workout:\n",
    "        fout.write(b'==================No Speed====================\\n')\n",
    "        return True\n",
    "    avgSpeed = numpy.mean(workout['speed'])\n",
    "    \n",
    "    \n",
    "    fout.write(bytes('Avg Speed is ' + str(avgSpeed) + ' with [' + str(low_bound) + ',' + str(high_bound) + ']', 'ascii'))\n",
    "    \n",
    "    if(avgSpeed < low_bound):\n",
    "        return False\n",
    "    if(avgSpeed > high_bound):\n",
    "        fout.write(b\"ABORT!!!!!!!!!!!!!!!!!!!!!!!!!!!!\\n\")\n",
    "        return False\n",
    "    \n",
    "    fout.write(b'\\n')\n",
    "    \n",
    "    return True"
   ]
  },
  {
   "cell_type": "code",
   "execution_count": null,
   "metadata": {
    "collapsed": true
   },
   "outputs": [],
   "source": [
    "def checkMaxSpeed(workout, low_bound, high_bound):\n",
    "    if type(workout) is not dict:\n",
    "        return False\n",
    "    if 'speed' not in workout:\n",
    "        return False\n",
    "    maxSpeed = numpy.amax(workout['speed'])\n",
    "    \n",
    "    if(maxSpeed < low_bound):\n",
    "        return False\n",
    "    if(maxSpeed > high_bound):\n",
    "        return False\n",
    "    \n",
    "    return True"
   ]
  },
  {
   "cell_type": "code",
   "execution_count": null,
   "metadata": {
    "collapsed": true
   },
   "outputs": [],
   "source": [
    "def checkMinSpeed(workout, low_bound, high_bound):\n",
    "    if type(workout) is not dict:\n",
    "        return False\n",
    "    if 'speed' not in workout:\n",
    "        return False\n",
    "    minSpeed = numpy.amin(workout['speed'])\n",
    "    \n",
    "    if(minSpeed < low_bound):\n",
    "        return False\n",
    "    if(minSpeed > high_bound):\n",
    "        return False\n",
    "    \n",
    "    return True"
   ]
  },
  {
   "cell_type": "code",
   "execution_count": null,
   "metadata": {
    "collapsed": true
   },
   "outputs": [],
   "source": [
    "def checkAvgHR(workout, low_bound, high_bound):\n",
    "    if type(workout) is not dict:\n",
    "        return False\n",
    "    if 'heart_rate' not in workout:\n",
    "        return False\n",
    "    avgHR = numpy.mean(workout['heart_rate'])\n",
    "    \n",
    "    if(avgHR < low_bound):\n",
    "        return False\n",
    "    if(avgHR > high_bound):\n",
    "        return False\n",
    "    \n",
    "    return True"
   ]
  },
  {
   "cell_type": "code",
   "execution_count": null,
   "metadata": {
    "collapsed": true
   },
   "outputs": [],
   "source": [
    "def checkMaxHR(workout, low_bound, high_bound):\n",
    "    if type(workout) is not dict:\n",
    "        return False\n",
    "    if 'heart_rate' not in workout:\n",
    "        return False\n",
    "    maxHR = numpy.amax(workout['heart_rate'])\n",
    "    \n",
    "    if(maxHR < low_bound):\n",
    "        return False\n",
    "    if(maxHR > high_bound):\n",
    "        return False\n",
    "    \n",
    "    return True"
   ]
  },
  {
   "cell_type": "code",
   "execution_count": null,
   "metadata": {
    "collapsed": true
   },
   "outputs": [],
   "source": [
    "def checkMinHR(workout, low_bound, high_bound):\n",
    "    if type(workout) is not dict:\n",
    "        return False\n",
    "    if 'heart_rate' not in workout:\n",
    "        return False\n",
    "    minHR = numpy.amin(workout['heart_rate'])\n",
    "    \n",
    "    if(minHR < low_bound):\n",
    "        return False\n",
    "    if(minHR > high_bound):\n",
    "        return False\n",
    "    \n",
    "    return True"
   ]
  },
  {
   "cell_type": "code",
   "execution_count": null,
   "metadata": {
    "collapsed": true
   },
   "outputs": [],
   "source": [
    "def checkPoints(workout, minPoints):\n",
    "    if type(workout) is not dict:\n",
    "        return False\n",
    "    if 'timestamp' not in workout:\n",
    "        return False\n",
    "    if(len(workout['timestamp']) < minPoints):\n",
    "        return False\n",
    "    \n",
    "    return True"
   ]
  },
  {
   "cell_type": "code",
   "execution_count": 2,
   "metadata": {
    "collapsed": true
   },
   "outputs": [],
   "source": [
    "def checkRange(workout, key, low_bound, high_bound):\n",
    "    fout = open('./RESULT_' + workout['sport'], 'ab')\n",
    "    if type(workout) is not dict:\n",
    "        fout.write(b'#########Not Dictionary#########')\n",
    "        fout.close()\n",
    "        return False\n",
    "    \n",
    "\n",
    "    \n",
    "    if key not in workout:\n",
    "        #fout.write(bytes('=========Key ' + key + ' not found=========\\n', 'ascii'))\n",
    "        fout.close()\n",
    "        return True\n",
    "    \n",
    "    for entry in workout[key]:\n",
    "        if(entry < low_bound):\n",
    "            fout.write(bytes('{} {} is too low for [{}, {}]: ABORT!!!!!!!!!!\\n'.format(key, entry, low_bound, high_bound), 'ascii'))\n",
    "            fout.close()\n",
    "            return False\n",
    "        if(entry > high_bound):\n",
    "            fout.write(bytes('{} {} is too high for [{}, {}]: ABORT!!!!!!!!!!\\n'.format(key, entry, low_bound, high_bound), 'ascii'))\n",
    "            fout.close()\n",
    "            return False\n",
    "    \n",
    "    fout.write(bytes('{} {} is in range for [{}, {}]\\n'.format(key, entry, low_bound, high_bound), 'ascii'))\n",
    "    fout.close()\n",
    "    return True\n"
   ]
  },
  {
   "cell_type": "code",
   "execution_count": 3,
   "metadata": {
    "collapsed": false
   },
   "outputs": [],
   "source": [
    "def cleanData(thresholds):\n",
    "    # Validity check for type of parameter\n",
    "    if type(thresholds) is not dict:\n",
    "        print(\"Thresholds passed in is not a dictionary--Abort\")\n",
    "        return\n",
    "    \n",
    "    # Iterate through the passed in parameter\n",
    "    for sport, entry in thresholds.items():\n",
    "        \n",
    "        print('Cleanning ' + sport)\n",
    "        \n",
    "        # Prepare to process the keys we want to clean\n",
    "        keyValues = []\n",
    "        lowBounds = []\n",
    "        highBounds = []\n",
    "        \n",
    "        # Process the keys we want to clean\n",
    "        for key, value in entry.items():\n",
    "            \n",
    "            keyValues.append(key)\n",
    "            lowBounds.append(value[0])\n",
    "            highBounds.append(value[1])\n",
    "            \n",
    "            print('For sport {}, the range of {} is [{}, {}]'.format(sport, key, value[0], value[1]))\n",
    "        \n",
    "        # Open the files of corresponding sport\n",
    "        zin = gzip.open('../data/' + sport + '.json.gz', 'r')\n",
    "        zout = gzip.open('../cleaning/' + sport + '_cleaned.json.gz', 'ab')\n",
    "        \n",
    "        # Iterate through each line\n",
    "        for l in zin:\n",
    "            \n",
    "            l = l.decode('ascii')\n",
    "            dic = eval(l)\n",
    "            \n",
    "            finalResult = True\n",
    "            \n",
    "            # Check each key\n",
    "            for i in range(0, len(keyValues)):\n",
    "                result = checkRange(dic, keyValues[i], lowBounds[i], highBounds[i])\n",
    "                if result is False:\n",
    "                    finalResult = False\n",
    "                    break\n",
    "            \n",
    "            # If the data's range is resonable\n",
    "            if finalResult is True:\n",
    "                zout.write(bytes(str(l) + '\\n', 'ascii'))\n",
    "        \n",
    "        # Close the files\n",
    "        zin.close()\n",
    "        zout.close()\n",
    "                    \n",
    "                \n",
    "            \n",
    "            \n",
    "            \n",
    "    '''       \n",
    "    # Process the information in dictionary 'threshold'\n",
    "    for key, value in thresholds.items():\n",
    "        strArray = key.split('_')\n",
    "        if(len(strArray) != 2):\n",
    "            print(\"The key string is not formatted correctly\")\n",
    "            continue\n",
    "        if(len(value) != 2):\n",
    "            print(\"The range value is not formatted correctly\")\n",
    "            continue\n",
    "        \n",
    "        # Add the values at the end of the lists\n",
    "        sports.append(strArray[0])\n",
    "        keyValue.append(strArray[1])\n",
    "        lowBound.append(value[0])\n",
    "        highBound.append(value[1]\n",
    "\n",
    "        \n",
    "        print(\"Processing \" + sport + \" with key \" + keyValue)\n",
    "        \n",
    "\n",
    "        \n",
    "        count = 0\n",
    "        index = 0\n",
    "        \n",
    "        for l in zin:\n",
    "            l = l.decode('ascii')\n",
    "            currWorkout = eval(l)\n",
    "            \n",
    "#            result = {\n",
    "#                'AvgSpeed': checkAvgSpeed(currWorkout, lowBound, highBound),\n",
    "#               'MaxSpeed': checkMaxSpeed(currWorkout, lowBound, highBound),\n",
    "#                'MinSpeed': checkMinSpeed(currWorkout, lowBound, highBound),\n",
    "#                'AvgHR': checkAvgHR(currWorkout, lowBound, highBound),\n",
    "#                'MinHR': checkMinHR(currWorkout, lowBound, highBound),\n",
    "#                'MaxHR': checkMaxHR(currWorkout, lowBound, highBound),\n",
    "#            }[keyValue]\n",
    "\n",
    "#            result = checkRange(currWorkout, keyValue, lowBound, highBound)\n",
    "            \n",
    "            index = index + 1\n",
    "    \n",
    "            if(result == False):\n",
    "                continue\n",
    "            \n",
    "            count = count + 1\n",
    "            \n",
    "            zout.write(bytes(str(l) + '\\n', 'ascii'))\n",
    "            \n",
    "        \n",
    "        print('total entry is ' + str(index))\n",
    "        print('total count is ' + str(count))\n",
    "        \n",
    "        zin.close()\n",
    "        zout.close()        \n",
    "        '''            "
   ]
  },
  {
   "cell_type": "code",
   "execution_count": 4,
   "metadata": {
    "collapsed": false,
    "scrolled": true
   },
   "outputs": [
    {
     "name": "stdout",
     "output_type": "stream",
     "text": [
      "{'indoor cycling': {'speed': [0, 55], 'heart_rate': [80, 180]}, 'mountain bike': {'speed': [0, 35], 'heart_rate': [60, 200]}, 'core stability training': {'speed': [0, 20], 'heart_rate': [60, 180]}, 'bike': {'speed': [0, 55], 'heart_rate': [60, 190]}, 'walk': {'speed': [0, 9], 'heart_rate': [60, 140]}, 'bike (transport)': {'speed': [0, 50], 'heart_rate': [60, 180]}, 'orienteering': {'speed': [0, 16], 'heart_rate': [60, 190]}, 'run': {'speed': [0, 20], 'heart_rate': [80, 200]}}\n",
      "Cleanning indoor cycling\n",
      "For sport indoor cycling, the range of speed is [0, 55]\n",
      "For sport indoor cycling, the range of heart_rate is [80, 180]\n"
     ]
    },
    {
     "ename": "KeyboardInterrupt",
     "evalue": "",
     "output_type": "error",
     "traceback": [
      "\u001b[0;31m---------------------------------------------------------------------------\u001b[0m",
      "\u001b[0;31mKeyboardInterrupt\u001b[0m                         Traceback (most recent call last)",
      "\u001b[0;32m<ipython-input-4-deeada4a29b2>\u001b[0m in \u001b[0;36m<module>\u001b[0;34m()\u001b[0m\n\u001b[1;32m     11\u001b[0m \u001b[1;33m\u001b[0m\u001b[0m\n\u001b[1;32m     12\u001b[0m \u001b[0mprint\u001b[0m\u001b[1;33m(\u001b[0m\u001b[0mthreshold\u001b[0m\u001b[1;33m)\u001b[0m\u001b[1;33m\u001b[0m\u001b[0m\n\u001b[0;32m---> 13\u001b[0;31m \u001b[0mcleanData\u001b[0m\u001b[1;33m(\u001b[0m\u001b[0mthreshold\u001b[0m\u001b[1;33m)\u001b[0m\u001b[1;33m\u001b[0m\u001b[0m\n\u001b[0m",
      "\u001b[0;32m<ipython-input-3-0fc5888186f2>\u001b[0m in \u001b[0;36mcleanData\u001b[0;34m(thresholds)\u001b[0m\n\u001b[1;32m     45\u001b[0m             \u001b[1;31m# If the data's range is resonable\u001b[0m\u001b[1;33m\u001b[0m\u001b[1;33m\u001b[0m\u001b[0m\n\u001b[1;32m     46\u001b[0m             \u001b[1;32mif\u001b[0m \u001b[0mfinalResult\u001b[0m \u001b[1;32mis\u001b[0m \u001b[1;32mTrue\u001b[0m\u001b[1;33m:\u001b[0m\u001b[1;33m\u001b[0m\u001b[0m\n\u001b[0;32m---> 47\u001b[0;31m                 \u001b[0mzout\u001b[0m\u001b[1;33m.\u001b[0m\u001b[0mwrite\u001b[0m\u001b[1;33m(\u001b[0m\u001b[0mbytes\u001b[0m\u001b[1;33m(\u001b[0m\u001b[0mstr\u001b[0m\u001b[1;33m(\u001b[0m\u001b[0ml\u001b[0m\u001b[1;33m)\u001b[0m \u001b[1;33m+\u001b[0m \u001b[1;34m'\\n'\u001b[0m\u001b[1;33m,\u001b[0m \u001b[1;34m'ascii'\u001b[0m\u001b[1;33m)\u001b[0m\u001b[1;33m)\u001b[0m\u001b[1;33m\u001b[0m\u001b[0m\n\u001b[0m\u001b[1;32m     48\u001b[0m \u001b[1;33m\u001b[0m\u001b[0m\n\u001b[1;32m     49\u001b[0m         \u001b[1;31m# Close the files\u001b[0m\u001b[1;33m\u001b[0m\u001b[1;33m\u001b[0m\u001b[0m\n",
      "\u001b[0;32mC:\\Users\\Owner\\Anaconda3\\lib\\gzip.py\u001b[0m in \u001b[0;36mwrite\u001b[0;34m(self, data)\u001b[0m\n\u001b[1;32m    260\u001b[0m \u001b[1;33m\u001b[0m\u001b[0m\n\u001b[1;32m    261\u001b[0m         \u001b[1;32mif\u001b[0m \u001b[0mlength\u001b[0m \u001b[1;33m>\u001b[0m \u001b[1;36m0\u001b[0m\u001b[1;33m:\u001b[0m\u001b[1;33m\u001b[0m\u001b[0m\n\u001b[0;32m--> 262\u001b[0;31m             \u001b[0mself\u001b[0m\u001b[1;33m.\u001b[0m\u001b[0mfileobj\u001b[0m\u001b[1;33m.\u001b[0m\u001b[0mwrite\u001b[0m\u001b[1;33m(\u001b[0m\u001b[0mself\u001b[0m\u001b[1;33m.\u001b[0m\u001b[0mcompress\u001b[0m\u001b[1;33m.\u001b[0m\u001b[0mcompress\u001b[0m\u001b[1;33m(\u001b[0m\u001b[0mdata\u001b[0m\u001b[1;33m)\u001b[0m\u001b[1;33m)\u001b[0m\u001b[1;33m\u001b[0m\u001b[0m\n\u001b[0m\u001b[1;32m    263\u001b[0m             \u001b[0mself\u001b[0m\u001b[1;33m.\u001b[0m\u001b[0msize\u001b[0m \u001b[1;33m+=\u001b[0m \u001b[0mlength\u001b[0m\u001b[1;33m\u001b[0m\u001b[0m\n\u001b[1;32m    264\u001b[0m             \u001b[0mself\u001b[0m\u001b[1;33m.\u001b[0m\u001b[0mcrc\u001b[0m \u001b[1;33m=\u001b[0m \u001b[0mzlib\u001b[0m\u001b[1;33m.\u001b[0m\u001b[0mcrc32\u001b[0m\u001b[1;33m(\u001b[0m\u001b[0mdata\u001b[0m\u001b[1;33m,\u001b[0m \u001b[0mself\u001b[0m\u001b[1;33m.\u001b[0m\u001b[0mcrc\u001b[0m\u001b[1;33m)\u001b[0m\u001b[1;33m\u001b[0m\u001b[0m\n",
      "\u001b[0;31mKeyboardInterrupt\u001b[0m: "
     ]
    }
   ],
   "source": [
    "threshold = {}\n",
    "#threshold['run_AvgSpeed'] = [0, 20]\n",
    "threshold['bike (transport)'] = {'speed': [0, 50], 'heart_rate': [60, 180]}\n",
    "threshold['bike'] = {'speed': [0, 55], 'heart_rate': [60, 190]}\n",
    "threshold['core stability training'] = {'speed': [0, 20], 'heart_rate': [60, 180]}\n",
    "threshold['indoor cycling'] = {'speed': [0, 55], 'heart_rate': [80, 180]}\n",
    "threshold['mountain bike'] = {'speed': [0, 35], 'heart_rate': [60, 200]}\n",
    "threshold['orienteering'] = {'speed': [0, 16], 'heart_rate': [60, 190]}\n",
    "threshold['run'] = {'speed': [0, 20], 'heart_rate': [80, 200]}\n",
    "threshold['walk'] = {'speed': [0, 9], 'heart_rate': [60, 140]}\n",
    "\n",
    "print(threshold)\n",
    "cleanData(threshold)"
   ]
  },
  {
   "cell_type": "code",
   "execution_count": null,
   "metadata": {
    "collapsed": true
   },
   "outputs": [],
   "source": []
  }
 ],
 "metadata": {
  "anaconda-cloud": {},
  "kernelspec": {
   "display_name": "Python [default]",
   "language": "python",
   "name": "python3"
  },
  "language_info": {
   "codemirror_mode": {
    "name": "ipython",
    "version": 3
   },
   "file_extension": ".py",
   "mimetype": "text/x-python",
   "name": "python",
   "nbconvert_exporter": "python",
   "pygments_lexer": "ipython3",
   "version": "3.5.2"
  }
 },
 "nbformat": 4,
 "nbformat_minor": 1
}
