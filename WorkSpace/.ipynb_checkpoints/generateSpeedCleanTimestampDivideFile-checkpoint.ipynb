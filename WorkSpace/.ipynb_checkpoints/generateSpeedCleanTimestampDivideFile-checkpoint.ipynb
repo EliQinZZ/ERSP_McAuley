{
 "cells": [
  {
   "cell_type": "code",
   "execution_count": 1,
   "metadata": {
    "collapsed": false,
    "scrolled": true
   },
   "outputs": [],
   "source": [
    "import gzip\n",
    "from haversine import haversine"
   ]
  },
  {
   "cell_type": "code",
   "execution_count": 2,
   "metadata": {
    "collapsed": true
   },
   "outputs": [],
   "source": [
    "# Return true if number of timestamps is above threshold, false otherwise\n",
    "def cleanDataByTimestamp(numOfTimestamps, threshold):\n",
    "    return numOfTimestamps >= threshold"
   ]
  },
  {
   "cell_type": "code",
   "execution_count": 3,
   "metadata": {
    "collapsed": true
   },
   "outputs": [],
   "source": [
    "# Generate a list of distance\n",
    "def formDistanceList(workout):\n",
    "    distanceIntervals = []\n",
    "    for i in range(len(workout['longitude']) - 1):\n",
    "        fromPoint = [workout['latitude'][i], workout['longitude'][i]]\n",
    "        toPoint = [workout['latitude'][i + 1], workout['longitude'][i + 1]]\n",
    "        \n",
    "        distance = haversine(fromPoint, toPoint, miles = True)\n",
    "        distanceIntervals.append(distance)\n",
    "        \n",
    "    return distanceIntervals"
   ]
  },
  {
   "cell_type": "code",
   "execution_count": 4,
   "metadata": {
    "collapsed": true
   },
   "outputs": [],
   "source": [
    "# Generate a list of time intervals\n",
    "def formTimeList(workout):\n",
    "    timeIntervals = []\n",
    "    for i in range(len(workout['timestamp']) - 1):\n",
    "        fromTime = workout['timestamp'][i]\n",
    "        toTime = workout['timestamp'][i+1]\n",
    "        \n",
    "        timeIntervals.append(toTime - fromTime)\n",
    "        \n",
    "    return timeIntervals"
   ]
  },
  {
   "cell_type": "code",
   "execution_count": 5,
   "metadata": {
    "collapsed": true
   },
   "outputs": [],
   "source": [
    "# Generate a list of speed based on distance and time intervals. Return empty list if time interval is illegal\n",
    "def formSpeedList(distanceIntervals, timeIntervals):\n",
    "    speedList = []\n",
    "    noZeroTimestamp = True\n",
    "    #previousSpeed = 0\n",
    "    for i in range(len(distanceIntervals)):\n",
    "        if(timeIntervals[i] == 0):\n",
    "            noZeroTimestamp = False\n",
    "            break\n",
    "        speed = distanceIntervals[i] / timeIntervals[i] * 3600\n",
    "        speedList.append(speed)\n",
    "        \n",
    "    if noZeroTimestamp == False:\n",
    "        speedList = []\n",
    "    return speedList"
   ]
  },
  {
   "cell_type": "code",
   "execution_count": 6,
   "metadata": {
    "collapsed": false,
    "scrolled": true
   },
   "outputs": [],
   "source": [
    "timestampThreshold = 100\n",
    "log = open('LOG_addSpeedCleanTimestanpDivideSports', 'w')\n",
    "zin = gzip.open('../endomondoHR.json.gz', 'rb')\n",
    "\n",
    "# Keep track of status of data\n",
    "total = 0\n",
    "badNumOfTimestamp = 0\n",
    "badTimeInterval = 0\n",
    "legalData = 0\n",
    "\n",
    "for l in zin:\n",
    "    \n",
    "    # Increment total number of workouts\n",
    "    total += 1\n",
    "    \n",
    "    # Evaluate the line\n",
    "    l = l.decode('ascii')\n",
    "    workout = eval(l)\n",
    "    \n",
    "    # Get the sport of the current workout\n",
    "    currSport = workout['sport']\n",
    "    \n",
    "    # Log the current workout ID\n",
    "    log.write('Workout #{}: '.format(workout['id']))\n",
    "    \n",
    "    # Check for number of timestamps\n",
    "    validTimestamp = cleanDataByTimestamp(len(workout['timestamp']), timestampThreshold)\n",
    "\n",
    "    if validTimestamp == False:\n",
    "        badNumOfTimestamp += 1\n",
    "        log.write('# of timestamps ({}) is below threshold {}. Sport {}. DISCARD!\\n'.format(len(workout['timestamp']), timestampThreshold, currSport))\n",
    "        continue;\n",
    "    \n",
    "    # Generate speed list\n",
    "    distanceIntervals = formDistanceList(workout)\n",
    "    timeIntervals = formTimeList(workout)   \n",
    "    speedList = formSpeedList(distanceIntervals, timeIntervals)\n",
    "    \n",
    "    # Check whether speed list generated is legal\n",
    "    if len(speedList) == 0:\n",
    "        badTimeInterval += 1\n",
    "        log.write('Found illigal timestamp interval(s). Sport{}. DISCARD!\\n'.format(currSport))\n",
    "        continue;\n",
    "    \n",
    "    # Rewrite the original speed\n",
    "    workout['speed'] = speedList\n",
    "    \n",
    "    # Write to subfile according to workout type\n",
    "    zout = gzip.open('../sportsWithCleanedTimestamp/' + currSport + '.json.gz', 'ab')\n",
    "    zout.write(bytes(str(workout) + '\\n', 'ascii'))\n",
    "    zout.close()\n",
    "    \n",
    "    # Increment statistic\n",
    "    legalData += 1\n",
    "    \n",
    "    # Log status\n",
    "    log.write('{} timestamps with threshold {}. Everything good. Sport {}.\\n'.format(len(workout['timestamp']), timestampThreshold, currSport))\n",
    "    \n",
    "zin.close()\n",
    "log.close()\n",
    "    "
   ]
  },
  {
   "cell_type": "code",
   "execution_count": 7,
   "metadata": {
    "collapsed": false
   },
   "outputs": [
    {
     "data": {
      "text/plain": [
       "253020"
      ]
     },
     "execution_count": 7,
     "metadata": {},
     "output_type": "execute_result"
    }
   ],
   "source": [
    "total"
   ]
  },
  {
   "cell_type": "code",
   "execution_count": 8,
   "metadata": {
    "collapsed": false
   },
   "outputs": [
    {
     "data": {
      "text/plain": [
       "214457"
      ]
     },
     "execution_count": 8,
     "metadata": {},
     "output_type": "execute_result"
    }
   ],
   "source": [
    "legalData"
   ]
  },
  {
   "cell_type": "code",
   "execution_count": 9,
   "metadata": {
    "collapsed": false
   },
   "outputs": [
    {
     "data": {
      "text/plain": [
       "11399"
      ]
     },
     "execution_count": 9,
     "metadata": {},
     "output_type": "execute_result"
    }
   ],
   "source": [
    "badNumOfTimestamp"
   ]
  },
  {
   "cell_type": "code",
   "execution_count": 10,
   "metadata": {
    "collapsed": false
   },
   "outputs": [
    {
     "data": {
      "text/plain": [
       "27164"
      ]
     },
     "execution_count": 10,
     "metadata": {},
     "output_type": "execute_result"
    }
   ],
   "source": [
    "badTimeInterval"
   ]
  },
  {
   "cell_type": "code",
   "execution_count": 7,
   "metadata": {
    "collapsed": false
   },
   "outputs": [
    {
     "name": "stdout",
     "output_type": "stream",
     "text": [
      "500\n",
      "498\n"
     ]
    }
   ],
   "source": [
    "pair = []\n",
    "zout = open('result.txt', 'w')\n",
    "print(len(speedList))\n",
    "print(len(providedSpeed))\n",
    "for i in range(len(providedSpeed)):\n",
    "    pair.append([speedList[i], providedSpeed[i]])\n",
    "zout.write('id is {}; userId is {}\\n'.format(workoutId, usrId))\n",
    "zout.write('[Calculated Speed, Provided Speed], Difference\\n\\n')\n",
    "for currentPair in pair:\n",
    "    zout.write('{}, {}\\n'.format(currentPair, currentPair[0] - currentPair[1]))\n",
    "zout.close()"
   ]
  },
  {
   "cell_type": "code",
   "execution_count": null,
   "metadata": {
    "collapsed": true
   },
   "outputs": [],
   "source": []
  }
 ],
 "metadata": {
  "anaconda-cloud": {},
  "kernelspec": {
   "display_name": "Python [default]",
   "language": "python",
   "name": "python3"
  },
  "language_info": {
   "codemirror_mode": {
    "name": "ipython",
    "version": 3
   },
   "file_extension": ".py",
   "mimetype": "text/x-python",
   "name": "python",
   "nbconvert_exporter": "python",
   "pygments_lexer": "ipython3",
   "version": "3.5.2"
  }
 },
 "nbformat": 4,
 "nbformat_minor": 1
}
