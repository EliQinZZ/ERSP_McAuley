{
 "cells": [
  {
   "cell_type": "code",
   "execution_count": 1,
   "metadata": {
    "collapsed": true
   },
   "outputs": [],
   "source": [
    "import os;\n",
    "#collect all the filenames and ready to read in\n",
    "def filenames():\n",
    "    files =[]\n",
    "    for file in os.listdir():\n",
    "        if \".json.gz\" in file:\n",
    "            files.append(file)\n",
    "    return files\n"
   ]
  },
  {
   "cell_type": "code",
   "execution_count": 2,
   "metadata": {
    "collapsed": true
   },
   "outputs": [],
   "source": [
    "import gzip\n",
    "#read single sport\n",
    "def readfiles(sport):\n",
    "    sportdata =[]\n",
    "    print(\"start %s\"%sport)\n",
    "    with gzip.open(sport, 'r') as f:\n",
    "        for l in f:\n",
    "            l = l.decode('ascii')\n",
    "            user = eval(l)\n",
    "            sportdata.append(user) \n",
    "                \n",
    "        print(\"finish %s\"%sport)\n",
    "    return sportdata;"
   ]
  },
  {
   "cell_type": "code",
   "execution_count": null,
   "metadata": {
    "collapsed": false
   },
   "outputs": [
    {
     "name": "stdout",
     "output_type": "stream",
     "text": [
      "start endomondoHR.json.gz\n"
     ]
    }
   ],
   "source": [
    "sports = filenames()\n",
    "sports_dictionary = {}\n",
    "for sport in sports:\n",
    "    sports_dictionary[sport]= readfiles(sport)"
   ]
  },
  {
   "cell_type": "code",
   "execution_count": 6,
   "metadata": {
    "collapsed": false
   },
   "outputs": [],
   "source": [
    "#this function takes in one single workout and forms a list of triple in the \n",
    "#form [[1,2,3], [1,2,3]] where 1, 2, 3 are the variables like longitude, latitude, and altitude\n",
    "#these variables can be chosen randomly\n",
    "#return a list of a triple of variables\n",
    "def buildtriple(workout, variable1, variable2, variable3):\n",
    "    triple_list =[]\n",
    "    #print(\"%s has %d\"%(variable1,len(workout[variable1])))\n",
    "    #print(\"%s has %d\"%(variable2,len(workout[variable2])))\n",
    "    #print(\"%s has %d\"%(variable3,len(workout[variable3])))\n",
    "    for i in range(len(workout[variable1])):    \n",
    "        sub =[workout[variable1][i],workout[variable2][i],workout[variable3][i]]\n",
    "        triple_list.append(sub)\n",
    "    return triple_list"
   ]
  },
  {
   "cell_type": "code",
   "execution_count": 15,
   "metadata": {
    "collapsed": false
   },
   "outputs": [],
   "source": [
    "from haversine import haversine\n",
    "#return {abc:[[1,2,3],[1,2,3],....., [1,2,3]], dce:[[1,2,3],[1,2,3],....., [1,2,3]], ......}\n",
    "#sport is list\n",
    "def tripleforAllworkouts(sport, variable1, variable2, variable3):\n",
    "    workoutListForOneSport = {}\n",
    "    for workout in sport:\n",
    "        #temp is a dictionary for one workout\n",
    "        temp= buildtriple(workout, variable1, variable2, variable3)\n",
    "        #workoutListForOneSport is a list of dictionaries of workouts\n",
    "        workoutListForOneSport[workout['id']] = temp\n",
    "    return workoutListForOneSport\n",
    "\n",
    "#workout is a list[[,,,],[,,,],[]....]\n",
    "def calculateDistance(workout):\n",
    "    distancelist = []\n",
    "    start=[workout[0][0], workout[0][1]]\n",
    "    \n",
    "    for index in range(1,len(workout)):\n",
    "        current = [workout[index][0], workout[index][1]]\n",
    "        distance = haversine(start,current,miles = True) \n",
    "        distancelist.append(distance)\n",
    "        start= current\n",
    "    return distancelist\n",
    "\n",
    "def calculate_time_interval (workout):\n",
    "    time_interval_list = []\n",
    "    timestamp_list = workout[\"timestamp\"]\n",
    "    for i in range(0,len(timestamp_list)-1):\n",
    "        time_interval = timestamp_list[i+1] - timestamp_list[i] # in seconds\n",
    "        time_interval_list.append(time_interval)\n",
    "    return time_interval_list"
   ]
  },
  {
   "cell_type": "code",
   "execution_count": 16,
   "metadata": {
    "collapsed": false
   },
   "outputs": [],
   "source": [
    "#return a pair of duistance and time\n",
    "def pair_disandtime(sport):\n",
    "    #construct the dictioanry of the time intevral for one sport\n",
    "    time_interval ={}\n",
    "    for workout in sport:\n",
    "        time_interval[workout['id']] = calculate_time_interval(workout)\n",
    "    print(\"time interval has been stored\")\n",
    "    \n",
    "    # form a distance list for one sport\n",
    "    #triplelist contains the location info\n",
    "    print(len(sport))\n",
    "    #triplelist is a list of the dictoanaries of workouts\n",
    "    triplelist = tripleforAllworkouts(sport, \"latitude\", \"longitude\", \"altitude\")\n",
    "    #distanceList is a list that has lists of distance for each workout for one sport\n",
    "    distanceList = {}    \n",
    "    #a workout is the jkey\n",
    "    for workout in triplelist:\n",
    "        list_dis = calculateDistance(triplelist[workout])\n",
    "        distanceList[workout] = list_dis\n",
    "    print(\"distance has been stored\")\n",
    "    pair = [distanceList, time_interval]\n",
    "    return pair"
   ]
  },
  {
   "cell_type": "code",
   "execution_count": 17,
   "metadata": {
    "collapsed": true
   },
   "outputs": [],
   "source": [
    "def has0timeinterval(list_time):\n",
    "    for time in list_time:\n",
    "        if time is 0:\n",
    "            return 1\n",
    "    return 0"
   ]
  },
  {
   "cell_type": "code",
   "execution_count": 18,
   "metadata": {
    "collapsed": true
   },
   "outputs": [],
   "source": [
    "#return a list of speed for all the workouts for a sport\n",
    "def get_speedlist(pair):\n",
    "    time_0 = []\n",
    "    time = pair[1] # dict\n",
    "    distance = pair[0] #dict\n",
    "    speed_list = []\n",
    "    for ID in time:\n",
    "        single_workout = []\n",
    "        list_time = time[ID]\n",
    "        if has0timeinterval(list_time) is 0:\n",
    "            for k in range(len(distance[ID])):\n",
    "                single_workout.append(distance[ID][k]*3600/list_time[k])\n",
    "            speed_list.append(single_workout)\n",
    "        else:\n",
    "            time_0.append(ID)\n",
    "                \n",
    "    result =[speed_list, time_0]\n",
    "    return result "
   ]
  },
  {
   "cell_type": "code",
   "execution_count": null,
   "metadata": {
    "collapsed": false
   },
   "outputs": [
    {
     "name": "stdout",
     "output_type": "stream",
     "text": [
      "start wriitng indoor cycling.json.gz\n",
      "time interval has been stored\n",
      "2606\n"
     ]
    }
   ],
   "source": [
    "#write all the \n",
    "cleanedout = {}\n",
    "with gzip.open(\"calculated_speed.json.gz\", 'a') as file:\n",
    "    for sport in sports_dictionary:\n",
    "        print(\"start wriitng %s\" % sport)\n",
    "        file.write(bytes(sport+'\\n', 'ascii'))\n",
    "        pair = pair_disandtime(sports_dictionary[sport])\n",
    "        data = get_speedlist(pair)\n",
    "        speedlist = data[0]\n",
    "        cleanedout[sport] = data[1]\n",
    "        for workout in speedlist:\n",
    "            file.write(bytes(str(workout)+'\\n','ascii'))\n",
    "    \n",
    "    print(\"finsihed wriitng %s\" % sport)"
   ]
  }
 ],
 "metadata": {
  "anaconda-cloud": {},
  "kernelspec": {
   "display_name": "Python [default]",
   "language": "python",
   "name": "python3"
  },
  "language_info": {
   "codemirror_mode": {
    "name": "ipython",
    "version": 3
   },
   "file_extension": ".py",
   "mimetype": "text/x-python",
   "name": "python",
   "nbconvert_exporter": "python",
   "pygments_lexer": "ipython3",
   "version": "3.5.2"
  }
 },
 "nbformat": 4,
 "nbformat_minor": 1
}
