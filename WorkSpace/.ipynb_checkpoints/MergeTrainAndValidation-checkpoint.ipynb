{
 "cells": [
  {
   "cell_type": "code",
   "execution_count": 1,
   "metadata": {
    "collapsed": true
   },
   "outputs": [],
   "source": [
    "import gzip"
   ]
  },
  {
   "cell_type": "code",
   "execution_count": 6,
   "metadata": {
    "collapsed": false
   },
   "outputs": [],
   "source": [
    "tin = gzip.open('../RunningBikingTrainValidTest/training_set_running_and_biking.json.gz', 'rb')\n",
    "vin = gzip.open('../RunningBikingTrainValidTest/validation_set_running_and_biking.json.gz', 'rb')\n",
    "zout = gzip.open('../RunningBikingTrainValidTest/cross_validation_set_running_and_biking.json.gz', 'wb')"
   ]
  },
  {
   "cell_type": "code",
   "execution_count": 7,
   "metadata": {
    "collapsed": true
   },
   "outputs": [],
   "source": [
    "for l in tin:\n",
    "    zout.write(l)\n",
    "for l in vin:\n",
    "    zout.write(l)"
   ]
  },
  {
   "cell_type": "code",
   "execution_count": 8,
   "metadata": {
    "collapsed": true
   },
   "outputs": [],
   "source": [
    "tin.close()\n",
    "vin.close()\n",
    "zout.close()"
   ]
  }
 ],
 "metadata": {
  "anaconda-cloud": {},
  "kernelspec": {
   "display_name": "Python [default]",
   "language": "python",
   "name": "python3"
  },
  "language_info": {
   "codemirror_mode": {
    "name": "ipython",
    "version": 3
   },
   "file_extension": ".py",
   "mimetype": "text/x-python",
   "name": "python",
   "nbconvert_exporter": "python",
   "pygments_lexer": "ipython3",
   "version": "3.5.2"
  }
 },
 "nbformat": 4,
 "nbformat_minor": 1
}
