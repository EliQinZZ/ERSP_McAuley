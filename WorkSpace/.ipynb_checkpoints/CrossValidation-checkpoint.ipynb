{
 "cells": [
  {
   "cell_type": "code",
   "execution_count": 1,
   "metadata": {
    "collapsed": false
   },
   "outputs": [
    {
     "name": "stdout",
     "output_type": "stream",
     "text": [
      "Reading data...\n",
      "done\n"
     ]
    }
   ],
   "source": [
    "import numpy\n",
    "import urllib.request\n",
    "import scipy.optimize\n",
    "import random\n",
    "from sklearn import svm\n",
    "import gzip\n",
    "\n",
    "print (\"Reading data...\")\n",
    "tin = gzip.open('../RunningBikingTrainValidTest/cross_validation_set_running_and_biking.json.gz', 'rb')\n",
    "\n",
    "train_list = []\n",
    "\n",
    "for l in tin:\n",
    "    l = l.decode('ascii')\n",
    "    dic = eval(l)\n",
    "    train_list.append(dic)\n",
    "\n",
    "print (\"done\")"
   ]
  },
  {
   "cell_type": "code",
   "execution_count": 2,
   "metadata": {
    "collapsed": true
   },
   "outputs": [],
   "source": [
    "def generate_features(dataList):\n",
    "    feature_list = []\n",
    "    for data in dataList:\n",
    "        curr_features = []\n",
    "        curr_features.append(numpy.amin(data['speed']))\n",
    "        curr_features.append(numpy.mean(data['speed']))\n",
    "        curr_features.append(numpy.amax(data['speed']))\n",
    "        #curr_features.append(numpy.amin(data['heart_rate']))\n",
    "        #curr_features.append(numpy.mean(data['heart_rate']))\n",
    "        #curr_features.append(numpy.amax(data['heart_rate']))\n",
    "        \n",
    "        feature_list.append(curr_features)\n",
    "    return feature_list"
   ]
  },
  {
   "cell_type": "code",
   "execution_count": 3,
   "metadata": {
    "collapsed": true
   },
   "outputs": [],
   "source": [
    "X_train_list = generate_features(train_list)\n",
    "y_train_list = [b['sport'] is 'run' for b in train_list]"
   ]
  },
  {
   "cell_type": "code",
   "execution_count": null,
   "metadata": {
    "collapsed": true
   },
   "outputs": [],
   "source": []
  },
  {
   "cell_type": "code",
   "execution_count": null,
   "metadata": {
    "collapsed": false
   },
   "outputs": [
    {
     "name": "stdout",
     "output_type": "stream",
     "text": [
      "Starting\n",
      "Feature is HR only\n",
      "kernel is linear\n",
      "C is 0.125\n",
      "[ 0.96788076  0.96504671  0.96761835  0.96620132  0.96562402]\n",
      "Accuracy: 0.966474 (+/- 0.002213)\n",
      "\n",
      "C is 0.25\n",
      "[ 0.96788076  0.96504671  0.96761835  0.96620132  0.96562402]\n",
      "Accuracy: 0.966474 (+/- 0.002213)\n",
      "\n",
      "C is 0.5\n",
      "[ 0.96788076  0.96504671  0.96761835  0.96620132  0.96562402]\n",
      "Accuracy: 0.966474 (+/- 0.002213)\n",
      "\n",
      "C is 1\n",
      "[ 0.96788076  0.96504671  0.96761835  0.96620132  0.96562402]\n",
      "Accuracy: 0.966474 (+/- 0.002213)\n",
      "\n",
      "C is 2\n",
      "[ 0.96788076  0.96504671  0.96767083  0.96620132  0.96562402]\n",
      "Accuracy: 0.966485 (+/- 0.002235)\n",
      "\n",
      "C is 4\n",
      "[ 0.96788076  0.96504671  0.96761835  0.9662538   0.9656765 ]\n",
      "Accuracy: 0.966495 (+/- 0.002192)\n",
      "\n",
      "C is 8\n",
      "[ 0.96788076  0.96504671  0.96761835  0.9662538   0.96562402]\n",
      "Accuracy: 0.966485 (+/- 0.002208)\n",
      "\n"
     ]
    }
   ],
   "source": [
    "print(\"Starting\")\n",
    "from sklearn.model_selection import cross_val_score\n",
    "\n",
    "print(\"Feature is HR only\")\n",
    "print(\"kernel is linear\")\n",
    "for i in range(-3,10):\n",
    "    clf = svm.SVC(kernel = 'linear', C = 2**i)\n",
    "    scores = cross_val_score(clf, X_train_list, y_train_list, cv = 5)\n",
    "    \n",
    "    print(\"C is {}\".format(str(2**i)))\n",
    "    print(scores)\n",
    "    print(\"Accuracy: %0.6f (+/- %0.6f)\" % (scores.mean(), scores.std() * 2))\n",
    "    print()"
   ]
  },
  {
   "cell_type": "code",
   "execution_count": null,
   "metadata": {
    "collapsed": true
   },
   "outputs": [],
   "source": [
    "print(\"kernel is rbf\")\n",
    "for i in range(-3,11):\n",
    "    clf = svm.SVC(C = 2**i)\n",
    "    scores = cross_val_score(clf, X_train_list, y_train_list, cv = 10)\n",
    "    \n",
    "    print(\"C is %d\"%C)\n",
    "    print(scores)\n",
    "    print(\"Accuracy: %0.2f (+/- %0.2f)\" % (scores.mean(), scores.std() * 2))\n",
    "    print()"
   ]
  },
  {
   "cell_type": "code",
   "execution_count": null,
   "metadata": {
    "collapsed": true
   },
   "outputs": [],
   "source": [
    "print(\"kernel is poly\")\n",
    "for i in range(-3,11):\n",
    "    clf = svm.SVC(kernel = 'poly', C = 2**i)\n",
    "    scores = cross_val_score(clf, X_train_list, y_train_list, cv = 10)\n",
    "    \n",
    "    print(\"C is %d\"%C)\n",
    "    print(scores)\n",
    "    print(\"Accuracy: %0.2f (+/- %0.2f)\" % (scores.mean(), scores.std() * 2))\n",
    "    print()"
   ]
  },
  {
   "cell_type": "code",
   "execution_count": null,
   "metadata": {
    "collapsed": true
   },
   "outputs": [],
   "source": [
    "print(\"kernel is sigmoid\")\n",
    "for i in range(-3,11):\n",
    "    clf = svm.SVC(kernel = 'sigmoid', C = 2**i)\n",
    "    scores = cross_val_score(clf, X_train_list, y_train_list, cv = 10)\n",
    "    \n",
    "    print(\"C is %d\"%C)\n",
    "    print(scores)\n",
    "    print(\"Accuracy: %0.2f (+/- %0.2f)\" % (scores.mean(), scores.std() * 2))\n",
    "    print()"
   ]
  },
  {
   "cell_type": "code",
   "execution_count": null,
   "metadata": {
    "collapsed": true
   },
   "outputs": [],
   "source": []
  }
 ],
 "metadata": {
  "anaconda-cloud": {},
  "kernelspec": {
   "display_name": "Python [default]",
   "language": "python",
   "name": "python3"
  },
  "language_info": {
   "codemirror_mode": {
    "name": "ipython",
    "version": 3
   },
   "file_extension": ".py",
   "mimetype": "text/x-python",
   "name": "python",
   "nbconvert_exporter": "python",
   "pygments_lexer": "ipython3",
   "version": "3.5.2"
  }
 },
 "nbformat": 4,
 "nbformat_minor": 1
}
