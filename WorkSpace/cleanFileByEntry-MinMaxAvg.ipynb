{
 "cells": [
  {
   "cell_type": "code",
   "execution_count": null,
   "metadata": {
    "collapsed": true
   },
   "outputs": [],
   "source": [
    "import gzip\n",
    "import os\n",
    "import numpy"
   ]
  },
  {
   "cell_type": "code",
   "execution_count": null,
   "metadata": {
    "collapsed": false
   },
   "outputs": [],
   "source": [
    "def checkRange(workout, key, attribute, low_bound, high_bound):\n",
    "    fout = open('./RESULT_' + workout['sport'], 'ab')\n",
    "    if type(workout) is not dict:\n",
    "        fout.write(b'#########Not Dictionary#########')\n",
    "        fout.close()\n",
    "        return False\n",
    "    \n",
    "\n",
    "    # If the key is not in the dictionary, keep the data\n",
    "    if key not in workout:\n",
    "        fout.write(bytes('=========Key ' + key + ' not found=========\\n', 'ascii'))\n",
    "        fout.close()\n",
    "        return True\n",
    "    \n",
    "    \n",
    "    # Determine whether the data should be cleaned out\n",
    "    result = {\n",
    "        'avg': low_bound <= numpy.mean(workout[key]) <= high_bound,\n",
    "        'min': low_bound <= numpy.amin(workout[key]) <= high_bound,\n",
    "        'max': low_bound <= numpy.amax(workout[key]) <= high_bound\n",
    "    }[attribute]\n",
    "    test = numpy.amax(workout[key])\n",
    "    fout.write(bytes('The max {} is {}\\n'.format(key, test), 'ascii'))\n",
    "    # Print the results\n",
    "    if result:\n",
    "        fout.write(bytes('{} {} is in range for [{}, {}]\\n'.format(attribute, key, low_bound, high_bound), 'ascii'))\n",
    "    else:\n",
    "        fout.write(bytes('{} {} is not range for [{}, {}]. ABORT!!!!!!!!\\n'.format(attribute, key, low_bound, high_bound), 'ascii'))\n",
    "    \n",
    "    fout.close()\n",
    "    return result\n"
   ]
  },
  {
   "cell_type": "code",
   "execution_count": null,
   "metadata": {
    "collapsed": false
   },
   "outputs": [],
   "source": [
    "def cleanData(thresholds):\n",
    "    # Validity check for type of parameter\n",
    "    if type(thresholds) is not dict:\n",
    "        print(\"Thresholds passed in is not a dictionary--Abort\")\n",
    "        return\n",
    "    \n",
    "    # Iterate through the passed in parameter\n",
    "    for sport, entry in thresholds.items():\n",
    "        \n",
    "        print('Cleanning ' + sport)\n",
    "        \n",
    "        # Prepare to process the keys we want to clean\n",
    "        keyValues = []\n",
    "        atrValues = []\n",
    "        lowBounds = []\n",
    "        highBounds = []\n",
    "        \n",
    "        # Process the keys we want to clean\n",
    "        for key, value in entry.items():\n",
    "            keyStr = key.split('.')\n",
    "            \n",
    "            # Validity check for splitted keys\n",
    "            if(len(keyStr) != 2):\n",
    "                print('The format of input key is invalid')\n",
    "                continue;\n",
    "            \n",
    "            keyValues.append(keyStr[0])\n",
    "            atrValues.append(keyStr[1])\n",
    "            lowBounds.append(value[0])\n",
    "            highBounds.append(value[1])\n",
    "            \n",
    "            print('For sport {}, the range of {} {} is [{}, {}]'.format(sport, keyStr[1], keyStr[0], value[0], value[1]))\n",
    "        \n",
    "        # Open the files of corresponding sport\n",
    "        zin = gzip.open('../data/' + sport + '.json.gz', 'r')\n",
    "        zout = gzip.open('../cleaning/' + sport + '_cleaned.json.gz', 'ab')\n",
    "        \n",
    "        # Iterate through each line\n",
    "        for l in zin:\n",
    "            \n",
    "            l = l.decode('ascii')\n",
    "            dic = eval(l)\n",
    "            \n",
    "            finalResult = True\n",
    "            \n",
    "            # Check each key\n",
    "            for i in range(0, len(keyValues)):\n",
    "                result = checkRange(dic, keyValues[i], atrValues[i], lowBounds[i], highBounds[i])\n",
    "                if not result:\n",
    "                    finalResult = False\n",
    "                    break\n",
    "\n",
    "            # If the data's range is resonable\n",
    "            if finalResult:\n",
    "                zout.write(bytes(str(l) + '\\n', 'ascii'))\n",
    "        \n",
    "        # Close the files\n",
    "        zin.close()\n",
    "        zout.close()    "
   ]
  },
  {
   "cell_type": "code",
   "execution_count": null,
   "metadata": {
    "collapsed": false,
    "scrolled": true
   },
   "outputs": [],
   "source": [
    "threshold = {}\n",
    "#threshold['run_AvgSpeed'] = [0, 20]\n",
    "#threshold['bike (transport)'] = {'speed': [0, 50], 'heart_rate': [60, 180]}\n",
    "#threshold['bike'] = {'speed': [0, 55], 'heart_rate': [60, 190]}\n",
    "#threshold['core stability training'] = {'speed': [0, 20], 'heart_rate': [60, 180]}\n",
    "#threshold['indoor cycling'] = {'speed': [0, 55], 'heart_rate': [80, 180]}\n",
    "#threshold['mountain bike'] = {'speed': [0, 35], 'heart_rate': [60, 200]}\n",
    "#threshold['orienteering'] = {'speed': [0, 16], 'heart_rate': [60, 190]}\n",
    "#threshold['run'] = {'speed': [0, 20], 'heart_rate': [80, 200]}\n",
    "#threshold['walk'] = {'speed': [0, 9], 'heart_rate': [60, 140]}\n",
    "\n",
    "threshold['run'] = {'speed.max': [10, 15], 'heart_rate.max': [100, 150]}\n",
    "threshold['bike'] = {'speed.min': [3, 8], 'speed.avg: [5, 20]', 'heart_rate.max': [150, 240]}\n",
    "\n",
    "print(threshold)\n",
    "cleanData(threshold)"
   ]
  }
 ],
 "metadata": {
  "anaconda-cloud": {},
  "kernelspec": {
   "display_name": "Python [default]",
   "language": "python",
   "name": "python3"
  },
  "language_info": {
   "codemirror_mode": {
    "name": "ipython",
    "version": 3
   },
   "file_extension": ".py",
   "mimetype": "text/x-python",
   "name": "python",
   "nbconvert_exporter": "python",
   "pygments_lexer": "ipython3",
   "version": "3.5.2"
  }
 },
 "nbformat": 4,
 "nbformat_minor": 1
}
