{
 "cells": [
  {
   "cell_type": "code",
   "execution_count": 1,
   "metadata": {
    "collapsed": false
   },
   "outputs": [
    {
     "name": "stdout",
     "output_type": "stream",
     "text": [
      "Reading data...\n",
      "done\n"
     ]
    }
   ],
   "source": [
    "import numpy\n",
    "import urllib.request\n",
    "import scipy.optimize\n",
    "import random\n",
    "from sklearn import svm\n",
    "import gzip\n",
    "\n",
    "print (\"Reading data...\")\n",
    "tin = gzip.open('../RunningBikingTrainValidTest/cross_validation_set_running_and_biking.json.gz', 'rb')\n",
    "\n",
    "train_list = []\n",
    "\n",
    "for l in tin:\n",
    "    l = l.decode('ascii')\n",
    "    dic = eval(l)\n",
    "    train_list.append(dic)\n",
    "\n",
    "print (\"done\")"
   ]
  },
  {
   "cell_type": "code",
   "execution_count": 2,
   "metadata": {
    "collapsed": true
   },
   "outputs": [],
   "source": [
    "def generate_features(dataList):\n",
    "    feature_list = []\n",
    "    for data in dataList:\n",
    "        curr_features = []\n",
    "        curr_features.append(numpy.amin(data['speed']))\n",
    "        curr_features.append(numpy.mean(data['speed']))\n",
    "        curr_features.append(numpy.amax(data['speed']))\n",
    "        curr_features.append(numpy.amin(data['heart_rate']))\n",
    "        curr_features.append(numpy.mean(data['heart_rate']))\n",
    "        curr_features.append(numpy.amax(data['heart_rate']))\n",
    "        \n",
    "        feature_list.append(curr_features)\n",
    "    return feature_list"
   ]
  },
  {
   "cell_type": "code",
   "execution_count": 3,
   "metadata": {
    "collapsed": false
   },
   "outputs": [],
   "source": [
    "X_train_list = generate_features(train_list)\n",
    "y_train_list = [b['sport'] is 'run' for b in train_list]"
   ]
  }
 ],
 "metadata": {
  "anaconda-cloud": {},
  "kernelspec": {
   "display_name": "Python [default]",
   "language": "python",
   "name": "python3"
  },
  "language_info": {
   "codemirror_mode": {
    "name": "ipython",
    "version": 3.0
   },
   "file_extension": ".py",
   "mimetype": "text/x-python",
   "name": "python",
   "nbconvert_exporter": "python",
   "pygments_lexer": "ipython3",
   "version": "3.5.2"
  }
 },
 "nbformat": 4,
 "nbformat_minor": 0
}