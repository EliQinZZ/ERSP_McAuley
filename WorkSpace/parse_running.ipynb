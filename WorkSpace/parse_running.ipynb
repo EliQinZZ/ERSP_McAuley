{
 "cells": [
  {
   "cell_type": "code",
   "execution_count": 1,
   "metadata": {
    "collapsed": true
   },
   "outputs": [],
   "source": [
    "import gzip"
   ]
  },
  {
   "cell_type": "code",
   "execution_count": 2,
   "metadata": {
    "collapsed": false
   },
   "outputs": [],
   "source": [
    "# Open the input file\n",
    "zin = gzip.open(\"endomondoHR.json.gz\", 'r')"
   ]
  },
  {
   "cell_type": "code",
   "execution_count": null,
   "metadata": {
    "collapsed": true
   },
   "outputs": [],
   "source": [
    "# Create sport-classified files\n",
    "# Iterate through all the lines to grab running data\n",
    "for l in zin:\n",
    "    l = l.decode('ascii')\n",
    "    dic = eval(l)\n",
    "    \n",
    "    if 'sport' in dic:\n",
    "        # Get the sport of the current user\n",
    "        currSport = dic['sport']\n",
    "        # Open the file with currect sport name\n",
    "        zout = gzip.open('sports/' + currSport + '.json.gz', 'ab')\n",
    "        # Write the data into the file\n",
    "        zout.write(bytes(str(dic) + '\\n', 'ascii'))\n",
    "        zout.close()"
   ]
  },
  {
   "cell_type": "code",
   "execution_count": null,
   "metadata": {
    "collapsed": true
   },
   "outputs": [],
   "source": [
    "# Create gender-classified files\n",
    "# Iterate through all the lines to grab running data\n",
    "for l in zin:\n",
    "    l = l.decode('ascii')\n",
    "    dic = eval(l)\n",
    "    \n",
    "    if 'gender' in dic:\n",
    "        # Get the gender of the current user\n",
    "        currGender = dic['gender']\n",
    "        # Open the file with currect gender\n",
    "        zout = gzip.open('gender/' + currGender + '.json.gz', 'ab')\n",
    "        # Write the data into the file\n",
    "        zout.write(bytes(str(dic) + '\\n', 'ascii'))\n",
    "        zout.close()"
   ]
  },
  {
   "cell_type": "code",
   "execution_count": null,
   "metadata": {
    "collapsed": true
   },
   "outputs": [],
   "source": [
    "# Close the input file\n",
    "zin.close()"
   ]
  },
  {
   "cell_type": "code",
   "execution_count": 5,
   "metadata": {
    "collapsed": false
   },
   "outputs": [
    {
     "name": "stdout",
     "output_type": "stream",
     "text": [
      "117902\n"
     ]
    }
   ],
   "source": [
    "#z1 = gzip.open('run.json.gz', 'r')\n",
    "z1 = gzip.open('run.json_2.gz', 'r')\n",
    "target = open('count_result', 'wb')\n",
    "count = 0\n",
    "\n",
    "#l1 = z1.readline().decode('ascii');\n",
    "#l2 = z2.readline().decode('ascii');\n",
    "#print(l1)\n",
    "#print(l2)\n",
    "\n",
    "for l in z1:\n",
    "#    print(l.decode('ascii'))\n",
    "#    l = l.decode('ascii')\n",
    "    count = count + 1\n",
    "#    target.write(bytes(str(count) + ' ', 'ascii'))\n",
    "#    break\n",
    "\n",
    "print(str(count))"
   ]
  },
  {
   "cell_type": "code",
   "execution_count": 8,
   "metadata": {
    "collapsed": true
   },
   "outputs": [],
   "source": [
    "ztest = gzip.open('test.gz', 'ab')\n",
    "ztest.write(bytes('First line' + '\\n', 'ascii'))\n",
    "ztest.close()\n",
    "ztest = gzip.open('test.gz', 'ab')\n",
    "ztest.write(bytes('Second line' + '\\n', 'ascii'))\n",
    "ztest.close()\n"
   ]
  },
  {
   "cell_type": "code",
   "execution_count": null,
   "metadata": {
    "collapsed": true
   },
   "outputs": [],
   "source": []
  }
 ],
 "metadata": {
  "anaconda-cloud": {},
  "kernelspec": {
   "display_name": "Python [default]",
   "language": "python",
   "name": "python3"
  },
  "language_info": {
   "codemirror_mode": {
    "name": "ipython",
    "version": 3
   },
   "file_extension": ".py",
   "mimetype": "text/x-python",
   "name": "python",
   "nbconvert_exporter": "python",
   "pygments_lexer": "ipython3",
   "version": "3.5.2"
  }
 },
 "nbformat": 4,
 "nbformat_minor": 1
}
