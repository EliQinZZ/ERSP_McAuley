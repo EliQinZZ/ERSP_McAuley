{
 "cells": [
  {
   "cell_type": "code",
   "execution_count": 8,
   "metadata": {
    "collapsed": true
   },
   "outputs": [],
   "source": [
    "import os;\n",
    "#collect all the filenames and ready to read in\n",
    "def finenames():\n",
    "    files =[]\n",
    "    for file in os.listdir():\n",
    "        if \".json.gz\" in file:\n",
    "            files.append(file)\n",
    "    return files\n"
   ]
  },
  {
   "cell_type": "code",
   "execution_count": 9,
   "metadata": {
    "collapsed": true
   },
   "outputs": [],
   "source": [
    "import gzip\n",
    "\n",
    "def readfiles(sports):\n",
    "    sportsWithData ={}\n",
    "    for sport in sports:\n",
    "        sportsWithData[sport]=[]\n",
    "        print(\"start %s\"%sport)\n",
    "        with gzip.open(sport, 'r') as f:\n",
    "            for l in f:\n",
    "                l = l.decode('ascii')\n",
    "                user = eval(l)\n",
    "                sportsWithData[sport].append(user) \n",
    "                \n",
    "            print(\"finish %s\"%sport)\n",
    "    return sportsWithData;"
   ]
  },
  {
   "cell_type": "code",
   "execution_count": 10,
   "metadata": {
    "collapsed": false,
    "scrolled": true
   },
   "outputs": [
    {
     "ename": "NameError",
     "evalue": "name 'filenames' is not defined",
     "output_type": "error",
     "traceback": [
      "\u001b[0;31m---------------------------------------------------------------------------\u001b[0m",
      "\u001b[0;31mNameError\u001b[0m                                 Traceback (most recent call last)",
      "\u001b[0;32m<ipython-input-10-8dab1d1d8725>\u001b[0m in \u001b[0;36m<module>\u001b[0;34m()\u001b[0m\n\u001b[1;32m      1\u001b[0m \u001b[0;31m#read data:\u001b[0m\u001b[0;34m\u001b[0m\u001b[0;34m\u001b[0m\u001b[0m\n\u001b[0;32m----> 2\u001b[0;31m \u001b[0msports\u001b[0m \u001b[0;34m=\u001b[0m \u001b[0mfilenames\u001b[0m\u001b[0;34m(\u001b[0m\u001b[0;34m)\u001b[0m\u001b[0;34m\u001b[0m\u001b[0m\n\u001b[0m\u001b[1;32m      3\u001b[0m \u001b[0msports_dictionary\u001b[0m \u001b[0;34m=\u001b[0m \u001b[0mreadfiles\u001b[0m\u001b[0;34m(\u001b[0m\u001b[0msports\u001b[0m\u001b[0;34m)\u001b[0m\u001b[0;34m\u001b[0m\u001b[0m\n",
      "\u001b[0;31mNameError\u001b[0m: name 'filenames' is not defined"
     ]
    }
   ],
   "source": [
    "#read data:\n",
    "sports = filenames()\n",
    "sports_dictionary = readfiles(sports)"
   ]
  },
  {
   "cell_type": "code",
   "execution_count": 11,
   "metadata": {
    "collapsed": false
   },
   "outputs": [],
   "source": [
    "#[sport: [workout1], [workout2], [workout3]....... , sport: [].....]\n",
    "#return a list of a triple of variables\n",
    "\n",
    "# this function takes in one single workout and forms a list of triple in the \n",
    "#form [[1,2,3], [1,2,3]] where 1, 2, 3 are the variables like longitude, latitude, and altitude\n",
    "# these variables can be chosen randomly\n",
    "def buildtriple(user, variable1, variable2, variable3):\n",
    "    triple_list =[]\n",
    "    for i in range(len(user[variable1])):\n",
    "        sub =[user[variable1][i],user[variable2][i],user[variable3][i]]\n",
    "        triple_list.append(sub)\n",
    "    return triple_list"
   ]
  },
  {
   "cell_type": "code",
   "execution_count": 12,
   "metadata": {
    "collapsed": false,
    "scrolled": true
   },
   "outputs": [],
   "source": [
    "#return [[[1,2,3],[1,2,3],....., [1,2,3]], [[1,2,3],[1,2,3],....., [1,2,3]], ......]\n",
    "def tripleforAllworkouts(sport, variable1, variable2, variable3):\n",
    "    workoutListForOneSport = []\n",
    "    for workout in sport:\n",
    "        triplelist = buildtriple(workout, variable1, variable2, variable3)\n",
    "        workoutListForOneSport.append(triplelist)\n",
    "    return workoutListForOneSport\n",
    "\n",
    "from haversine import haversine\n",
    "#workout is a list[[,,,],[,,,],[]....]\n",
    "def calculateDistance(workout):\n",
    "    distancelist = []\n",
    "    start=[workout[0][0], workout[0][1]]\n",
    "    \n",
    "    for triple in workout:\n",
    "        current = [triple[0],triple[1]]\n",
    "        distance = haversine(start,current,miles = True)\n",
    "        distancelist.append(distance)\n",
    "        start= current\n",
    "    return distancelist"
   ]
  },
  {
   "cell_type": "code",
   "execution_count": 7,
   "metadata": {
    "collapsed": false
   },
   "outputs": [],
   "source": [
    "import gzip\n",
    "def calculate_time_interval (workout):\n",
    "    time_interval_list = []\n",
    "    timestamp_list = workout['timestamp']\n",
    "    for i in range(0,len(timestamp_list)-1):\n",
    "        time_interval = timestamp_list[i+1] - timestamp_list[i] # in seconds\n",
    "        time_interval_list.append(time_interval)\n",
    "    return time_interval_list"
   ]
  },
  {
   "cell_type": "code",
   "execution_count": 120,
   "metadata": {
    "collapsed": true
   },
   "outputs": [],
   "source": [
    "#test for single sport\n",
    "def pair_distanceandtime(sport, datasource):   \n",
    "    print(\"%s :\"%sport)\n",
    "    #construct the list of the time intevral for one sport\n",
    "    time_interval =[]\n",
    "    for workout in datasource[sport]:\n",
    "        time_interval.append(calculate_time_interval(workout))\n",
    "    print(\"time interval has been stored\")\n",
    "    \n",
    "    # form a distance list for one sport\n",
    "    #triplelist contains the location info\n",
    "    triplelist = tripleforAllworkouts(datasource[sport], \"latitude\", \"longitude\", \"altitude\")\n",
    "    #distanceList is a list that has lists of distance for each workout for one sport\n",
    "    distanceList = []    \n",
    "    #a workout is a list of triples\n",
    "    for workout in triplelist:\n",
    "        list_dis = calculateDistance(workout)\n",
    "        distanceList.append(list_dis)\n",
    "    print(\"distance has been stored\")\n",
    "    pair = [distanceList, time_interval]\n",
    "    return pair"
   ]
  },
  {
   "cell_type": "code",
   "execution_count": null,
   "metadata": {
    "collapsed": true
   },
   "outputs": [],
   "source": [
    "#this is for every sport\n",
    "distance_dictionary = {}\n",
    "time_dictionary ={}\n",
    "for sport in sports_dictionary:\n",
    "    pair = pair_distanceandtime(sport, sports_dictionary)\n",
    "    distance_dictionary.append(pair[0])\n",
    "    time_dictionary.append(pair[1])"
   ]
  },
  {
   "cell_type": "code",
   "execution_count": 121,
   "metadata": {
    "collapsed": false
   },
   "outputs": [
    {
     "name": "stdout",
     "output_type": "stream",
     "text": [
      "bike (transport).json.gz :\n",
      "time interval has been stored\n",
      "distance has been stored\n"
     ]
    }
   ],
   "source": [
    "#test: this is for single sport\n",
    "sport_list = [k for k in sports_dictionary]\n",
    "pair = pair_distanceandtime(sport_list[0], sports_dictionary)"
   ]
  },
  {
   "cell_type": "code",
   "execution_count": 128,
   "metadata": {
    "collapsed": true
   },
   "outputs": [],
   "source": [
    "#for all the workouts for a sport\n",
    "#next block is a accuracy test using one workout\n",
    "def get_speedlist(pair):\n",
    "    time = pair[1]\n",
    "    distance = pair[0]\n",
    "    for i in len(time):\n",
    "        single_workout = []\n",
    "        list_time = time[i]\n",
    "        for k in range(len(distance[i])-1):\n",
    "            single_workout.append(distance[i][k]*3600/list_time[k])\n",
    "        speed_list.append(single_workout)\n",
    "    return speed_list"
   ]
  },
  {
   "cell_type": "code",
   "execution_count": 138,
   "metadata": {
    "collapsed": false
   },
   "outputs": [
    {
     "name": "stdout",
     "output_type": "stream",
     "text": [
      "499\n"
     ]
    }
   ],
   "source": [
    "# pick the third workout to test; form a list of calculated speed\n",
    "distance_list = pair[0][2]\n",
    "time_list = pair[1][2]\n",
    "speed_list = []\n",
    "for i in range(len(distance_list)-1):\n",
    "     speed_list.append(distance_list[i]*3600/time_list[i])"
   ]
  },
  {
   "cell_type": "code",
   "execution_count": 142,
   "metadata": {
    "collapsed": false
   },
   "outputs": [],
   "source": [
    "#get the actual list of speed:\n",
    "list_workout = sports_dictionary[sport_list[0]][2]\n",
    "recorded_speed = list_workout[\"speed\"]"
   ]
  },
  {
   "cell_type": "code",
   "execution_count": 143,
   "metadata": {
    "collapsed": false
   },
   "outputs": [
    {
     "name": "stdout",
     "output_type": "stream",
     "text": [
      "500\n",
      "499\n"
     ]
    }
   ],
   "source": [
    "#speed_list\n",
    "#recorded_speed\n",
    "print(len(recorded_speed))\n",
    "print(len(speed_list))"
   ]
  },
  {
   "cell_type": "code",
   "execution_count": 145,
   "metadata": {
    "collapsed": false
   },
   "outputs": [],
   "source": [
    "import matplotlib.pyplot as plt"
   ]
  },
  {
   "cell_type": "code",
   "execution_count": 1,
   "metadata": {
    "collapsed": false
   },
   "outputs": [
    {
     "ename": "NameError",
     "evalue": "name 'plt' is not defined",
     "output_type": "error",
     "traceback": [
      "\u001b[0;31m---------------------------------------------------------------------------\u001b[0m",
      "\u001b[0;31mNameError\u001b[0m                                 Traceback (most recent call last)",
      "\u001b[0;32m<ipython-input-1-413285d07cb2>\u001b[0m in \u001b[0;36m<module>\u001b[0;34m()\u001b[0m\n\u001b[0;32m----> 1\u001b[0;31m \u001b[0mplt\u001b[0m\u001b[0;34m.\u001b[0m\u001b[0mplot\u001b[0m\u001b[0;34m(\u001b[0m\u001b[0mrange\u001b[0m\u001b[0;34m(\u001b[0m\u001b[0;36m500\u001b[0m\u001b[0;34m)\u001b[0m\u001b[0;34m,\u001b[0m\u001b[0mrecorded_speed\u001b[0m\u001b[0;34m,\u001b[0m \u001b[0;34m'rp'\u001b[0m\u001b[0;34m,\u001b[0m \u001b[0mrange\u001b[0m\u001b[0;34m(\u001b[0m\u001b[0;36m499\u001b[0m\u001b[0;34m)\u001b[0m\u001b[0;34m,\u001b[0m \u001b[0mspeed_list\u001b[0m\u001b[0;34m,\u001b[0m \u001b[0;34m'bp'\u001b[0m\u001b[0;34m)\u001b[0m\u001b[0;34m\u001b[0m\u001b[0m\n\u001b[0m\u001b[1;32m      2\u001b[0m \u001b[0mplt\u001b[0m\u001b[0;34m.\u001b[0m\u001b[0maxis\u001b[0m\u001b[0;34m(\u001b[0m\u001b[0;34m[\u001b[0m\u001b[0;36m0\u001b[0m\u001b[0;34m,\u001b[0m \u001b[0;36m500\u001b[0m\u001b[0;34m,\u001b[0m \u001b[0;36m0\u001b[0m\u001b[0;34m,\u001b[0m \u001b[0;36m50\u001b[0m\u001b[0;34m]\u001b[0m\u001b[0;34m)\u001b[0m\u001b[0;34m\u001b[0m\u001b[0m\n\u001b[1;32m      3\u001b[0m \u001b[0mplt\u001b[0m\u001b[0;34m.\u001b[0m\u001b[0mshow\u001b[0m\u001b[0;34m(\u001b[0m\u001b[0;34m)\u001b[0m\u001b[0;34m\u001b[0m\u001b[0m\n",
      "\u001b[0;31mNameError\u001b[0m: name 'plt' is not defined"
     ]
    }
   ],
   "source": [
    "plt.plot(range(500),recorded_speed, 'rp', range(499), speed_list, 'bp')\n",
    "plt.axis([0, 500, 0, 50])\n",
    "plt.show()\n"
   ]
  },
  {
   "cell_type": "code",
   "execution_count": null,
   "metadata": {
    "collapsed": true
   },
   "outputs": [],
   "source": [
    "# distance_dictionary\n",
    "# time_dictioanry \n",
    "def writedata(filename, datasource):\n",
    "import gzip\n",
    "with gzip.open(filename,'wb') as file:\n",
    "    for key in datasource:\n",
    "        file.write(bytes(str(key))+'\\n', \"ascii\")\n",
    "        for eachworkout in datasource[key]:\n",
    "            file.write(bytes(str(eachworkout)) +'\\n', \"ascii\")"
   ]
  },
  {
   "cell_type": "code",
   "execution_count": null,
   "metadata": {
    "collapsed": true
   },
   "outputs": [],
   "source": [
    "writedata(\"time_interval.json.gz\", time_dictionary)\n",
    "writedata(\"distance.json.gz\", distance_dictionary)\n",
    "writedata(\"speed.json.gz\", distance_dictionary)"
   ]
  }
 ],
 "metadata": {
  "anaconda-cloud": {},
  "kernelspec": {
   "display_name": "Python [default]",
   "language": "python",
   "name": "python3"
  },
  "language_info": {
   "codemirror_mode": {
    "name": "ipython",
    "version": 3
   },
   "file_extension": ".py",
   "mimetype": "text/x-python",
   "name": "python",
   "nbconvert_exporter": "python",
   "pygments_lexer": "ipython3",
   "version": "3.5.2"
  }
 },
 "nbformat": 4,
 "nbformat_minor": 1
}
