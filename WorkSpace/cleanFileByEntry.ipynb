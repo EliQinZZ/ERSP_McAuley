{
 "cells": [
  {
   "cell_type": "code",
   "execution_count": 1,
   "metadata": {
    "collapsed": true
   },
   "outputs": [],
   "source": [
    "import gzip\n",
    "import os\n",
    "import numpy"
   ]
  },
  {
   "cell_type": "code",
   "execution_count": 2,
   "metadata": {
    "collapsed": true
   },
   "outputs": [],
   "source": [
    "def checkAvgSpeed(workout, low_bound, high_bound):\n",
    "    if workout is not dict:\n",
    "        return false\n",
    "    if 'speed' not in workout:\n",
    "        return false\n",
    "    avgSpeed = numpy.mean(workout['speed'])\n",
    "    \n",
    "    if(avgSpeed < low_bound):\n",
    "        return false\n",
    "    if(avgSpeed > high_bound):\n",
    "        return false\n",
    "    \n",
    "    return true"
   ]
  },
  {
   "cell_type": "code",
   "execution_count": 3,
   "metadata": {
    "collapsed": true
   },
   "outputs": [],
   "source": [
    "def checkMaxSpeed(workout, low_bound, high_bound):\n",
    "    if workout is not dict:\n",
    "        return false\n",
    "    if 'speed' not in workout:\n",
    "        return false\n",
    "    maxSpeed = numpy.amax(workout['speed'])\n",
    "    \n",
    "    if(maxSpeed < low_bound):\n",
    "        return false\n",
    "    if(maxSpeed > high_bound):\n",
    "        return false\n",
    "    \n",
    "    return true"
   ]
  },
  {
   "cell_type": "code",
   "execution_count": 9,
   "metadata": {
    "collapsed": true
   },
   "outputs": [],
   "source": [
    "def checkMinSpeed(workout, low_bound, high_bound):\n",
    "    if workout is not dict:\n",
    "        return false\n",
    "    if 'speed' not in workout:\n",
    "        return false\n",
    "    minSpeed = numpy.amin(workout['speed'])\n",
    "    \n",
    "    if(minSpeed < low_bound):\n",
    "        return false\n",
    "    if(minSpeed > high_bound):\n",
    "        return false\n",
    "    \n",
    "    return true"
   ]
  },
  {
   "cell_type": "code",
   "execution_count": 4,
   "metadata": {
    "collapsed": true
   },
   "outputs": [],
   "source": [
    "def checkAvgHR(workout, low_bound, high_bound):\n",
    "    if workout is not dict:\n",
    "        return false\n",
    "    if 'heart_rate' not in workout:\n",
    "        return false\n",
    "    avgHR = numpy.mean(workout['heart_rate'])\n",
    "    \n",
    "    if(avgHR < low_bound):\n",
    "        return false\n",
    "    if(avgHR > high_bound):\n",
    "        return false\n",
    "    \n",
    "    return true"
   ]
  },
  {
   "cell_type": "code",
   "execution_count": 5,
   "metadata": {
    "collapsed": true
   },
   "outputs": [],
   "source": [
    "def checkMaxHR(workout, low_bound, high_bound):\n",
    "    if workout is not dict:\n",
    "        return false\n",
    "    if 'heart_rate' not in workout:\n",
    "        return false\n",
    "    maxHR = numpy.amax(workout['heart_rate'])\n",
    "    \n",
    "    if(maxHR < low_bound):\n",
    "        return false\n",
    "    if(maxHR > high_bound):\n",
    "        return false\n",
    "    \n",
    "    return true"
   ]
  },
  {
   "cell_type": "code",
   "execution_count": 6,
   "metadata": {
    "collapsed": true
   },
   "outputs": [],
   "source": [
    "def checkMinHR(workout, low_bound, high_bound):\n",
    "    if workout is not dict:\n",
    "        return false\n",
    "    if 'heart_rate' not in workout:\n",
    "        return false\n",
    "    minHR = numpy.amin(workout['heart_rate'])\n",
    "    \n",
    "    if(minHR < low_bound):\n",
    "        return false\n",
    "    if(minHR > high_bound):\n",
    "        return false\n",
    "    \n",
    "    return true"
   ]
  },
  {
   "cell_type": "code",
   "execution_count": 7,
   "metadata": {
    "collapsed": true
   },
   "outputs": [],
   "source": [
    "def checkPoints(workout, minPoints):\n",
    "    if workout is not dict:\n",
    "        return false\n",
    "    if 'timestamp' not in workout:\n",
    "        return false\n",
    "    if(len(workout['timestamp']) < minPoints):\n",
    "        return false\n",
    "    \n",
    "    return true"
   ]
  },
  {
   "cell_type": "code",
   "execution_count": 12,
   "metadata": {
    "collapsed": false
   },
   "outputs": [],
   "source": [
    "def cleanData(thresholds):\n",
    "    if threshlods is not dict:\n",
    "        print(\"Thresholds passed in is not a dictionary--Abort\")\n",
    "        return\n",
    "    for key, value in d.items():\n",
    "        strArray = key.split('_')\n",
    "        if(len(strArray) != 2):\n",
    "            print(\"The key string is not formatted correctly\")\n",
    "            continue\n",
    "        if(len(value) != 2):\n",
    "            print(\"The key string is not formatted correctly\")\n",
    "            continue\n",
    "        \n",
    "        sport = strArray[0] + '.json.gz'\n",
    "        keyValue = strArray[1]\n",
    "        lowBound = value[0]\n",
    "        highBound = value[1]\n",
    "        \n",
    "        zin = gzip.open(sport + '.json.gz', 'r')\n",
    "        zout = gzip.open(fileName + '_cleaned.json.gz', 'ab')\n",
    "        \n",
    "        for l in zin:\n",
    "            l = l.decode('ascii')\n",
    "            currWorkout = eval(l)\n",
    "            \n",
    "            result = {\n",
    "                'AvgSpeed': checkAvgSpeed(currWorkout, lowBound, highBound),\n",
    "                'MaxSpeed': checkMaxSpeed(currWorkout, lowBound, highBound),\n",
    "                'MinSpeed': checkMinSpeed(currWorkout, lowBound, highBound),\n",
    "                'AvgHR': checkAvgHR(currWorkout, lowBound, highBound),\n",
    "                'MinHR': checkMinHR(currWorkout, lowBound, highBound),\n",
    "                'MaxHR': checkMaxHR(currWorkout, lowBound, highBound),\n",
    "            }[keyValue]\n",
    "            \n",
    "            if(result == false):\n",
    "                continue\n",
    "            \n",
    "            zout.write(bytes(str(l) + '\\n', 'ascii'))\n",
    "            \n",
    "            zin.close()\n",
    "            zout.close()\n",
    "            \n",
    "            \n",
    "            \n",
    "        \n",
    "        \n",
    "    "
   ]
  },
  {
   "cell_type": "code",
   "execution_count": null,
   "metadata": {
    "collapsed": true
   },
   "outputs": [],
   "source": []
  }
 ],
 "metadata": {
  "kernelspec": {
   "display_name": "Python [default]",
   "language": "python",
   "name": "python3"
  },
  "language_info": {
   "codemirror_mode": {
    "name": "ipython",
    "version": 3
   },
   "file_extension": ".py",
   "mimetype": "text/x-python",
   "name": "python",
   "nbconvert_exporter": "python",
   "pygments_lexer": "ipython3",
   "version": "3.5.2"
  }
 },
 "nbformat": 4,
 "nbformat_minor": 1
}
