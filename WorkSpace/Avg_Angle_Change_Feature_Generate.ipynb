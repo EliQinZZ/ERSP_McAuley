{
 "cells": [
  {
   "cell_type": "code",
   "execution_count": 21,
   "metadata": {
    "collapsed": true
   },
   "outputs": [],
   "source": [
    "from math import acos\n",
    "from math import sqrt\n",
    "from math import pi\n",
    "\n",
    "def length(v):\n",
    "    return sqrt(v[0]**2 + v[1]**2)\n",
    "def dot_product(v,w):\n",
    "   return v[0]*w[0]+v[1]*w[1]\n",
    "def determinant(v,w):\n",
    "   return v[0]*w[1]-v[1]*w[0]\n",
    "def inner_angle(v,w):\n",
    "   cos_x = dot_product(v,w)/(length(v)*length(w))\n",
    "   rad = acos(cos_x) # in radians\n",
    "   return rad*180/pi # returns degrees\n",
    "\n",
    "# return the clockwise angle from A to B\n",
    "def angle_clockwise(A, B):\n",
    "    inner = inner_angle(A,B)\n",
    "    det = determinant(A,B)\n",
    "    if det < 0: #this is a property of the det. If the det < 0 then B is clockwise of A\n",
    "        return inner\n",
    "    else: # if the det > 0 then A is immediately clockwise of B\n",
    "        return 360-inner"
   ]
  },
  {
   "cell_type": "code",
   "execution_count": 22,
   "metadata": {
    "collapsed": true
   },
   "outputs": [],
   "source": [
    "def generate_avg_angle_change_feature(filename):\n",
    "    with open(filename, 'r') as file:\n",
    "        avg_angle_change_list1 = []\n",
    "        avg_angle_change_list2 = []\n",
    "        angle_list1 = []\n",
    "        angle_list2 = []\n",
    "        total1 = 0\n",
    "        total2 = 0\n",
    "        \n",
    "        for line in file:\n",
    "            line = line.decode('ascii')\n",
    "            workout = eval(line)\n",
    "            longitude_list = workout['longitude']\n",
    "            latitude_list = workout['latitude']\n",
    "            \n",
    "            for i in range(0,length(longitude_list)-2):\n",
    "                vector1 = [longtitude_list[i+1] - longtitude_list[i], latitude_list[i+1] - latitude_list[i]]\n",
    "                vector2 = [longtitude_list[i+2] - longtitude_list[i+1], latitude_list[i+2] - latitude_list[i+1]]\n",
    "                clockwise_angle = angle_clockwise(vector1,vector2)\n",
    "                if (clockwise_angle == 360):\n",
    "                    clockwise_angle = 0\n",
    "                # first method\n",
    "                angle1 = clockwise_angle\n",
    "                angle_list1.append(angle1)\n",
    "                total1 += angle1\n",
    "                \n",
    "                # second method\n",
    "                if (clockwise_angle > 180):\n",
    "                    clockwise_angle = 360 - clockwise_angle\n",
    "                angle2 = clockwise_angle\n",
    "                angle_list2.append(angle2)\n",
    "                total2 += angle2\n",
    "                \n",
    "        # first method\n",
    "        average1 = total1/length(angle_list1)\n",
    "        # second method\n",
    "        average2 = total1/length(angle_list2)            \n",
    "        avg_angle_list = [average1, average2]\n",
    "        \n",
    "    filename.close()\n",
    "    return avg_angle_list"
   ]
  },
  {
   "cell_type": "code",
   "execution_count": 23,
   "metadata": {
    "collapsed": false
   },
   "outputs": [
    {
     "data": {
      "text/plain": [
       "360.0"
      ]
     },
     "execution_count": 23,
     "metadata": {},
     "output_type": "execute_result"
    }
   ],
   "source": [
    "A = [1,0]\n",
    "B = [1,0]\n",
    "angle_clockwise(A, B)"
   ]
  },
  {
   "cell_type": "code",
   "execution_count": 24,
   "metadata": {
    "collapsed": false
   },
   "outputs": [
    {
     "data": {
      "text/plain": [
       "360.0"
      ]
     },
     "execution_count": 24,
     "metadata": {},
     "output_type": "execute_result"
    }
   ],
   "source": [
    "angle_clockwise(B, A)"
   ]
  },
  {
   "cell_type": "code",
   "execution_count": null,
   "metadata": {
    "collapsed": true
   },
   "outputs": [],
   "source": [
    ""
   ]
  }
 ],
 "metadata": {
  "anaconda-cloud": {},
  "kernelspec": {
   "display_name": "Python [default]",
   "language": "python",
   "name": "python3"
  },
  "language_info": {
   "codemirror_mode": {
    "name": "ipython",
    "version": 3.0
   },
   "file_extension": ".py",
   "mimetype": "text/x-python",
   "name": "python",
   "nbconvert_exporter": "python",
   "pygments_lexer": "ipython3",
   "version": "3.5.2"
  }
 },
 "nbformat": 4,
 "nbformat_minor": 0
}