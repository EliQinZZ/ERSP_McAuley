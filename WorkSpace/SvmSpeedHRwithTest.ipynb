{
 "cells": [
  {
   "cell_type": "code",
   "execution_count": 1,
   "metadata": {
    "collapsed": true
   },
   "outputs": [],
   "source": [
    "import numpy\n",
    "from sklearn import svm\n",
    "import gzip\n",
    "\n",
    "\n",
    "def generate_features(data_ist):\n",
    "    feature_list = []\n",
    "    for data in data_ist:\n",
    "        curr_features = []\n",
    "        curr_features.append(numpy.amin(data['speed']))\n",
    "        curr_features.append(numpy.mean(data['speed']))\n",
    "        curr_features.append(numpy.amax(data['speed']))\n",
    "        curr_features.append(numpy.amin(data['heart_rate']))\n",
    "        curr_features.append(numpy.mean(data['heart_rate']))\n",
    "        curr_features.append(numpy.amax(data['heart_rate']))\n",
    "\n",
    "        feature_list.append(curr_features)\n",
    "    return feature_list\n",
    "\n",
    "def correctness(pred, real):\n",
    "    total = 0\n",
    "    errors = 0\n",
    "    for i in range(len(pred)):\n",
    "        total += 1\n",
    "        if pred[i] != real[i]:\n",
    "            errors += 1\n",
    "\n",
    "    return 1 - errors / total"
   ]
  },
  {
   "cell_type": "code",
   "execution_count": 10,
   "metadata": {
    "collapsed": false
   },
   "outputs": [
    {
     "name": "stdout",
     "output_type": "stream",
     "text": [
      "Reading data...\n",
      "done\n"
     ]
    }
   ],
   "source": [
    "print(\"Reading data...\")\n",
    "\n",
    "tin = gzip.open('../RunningBikingTrainValidTest/training_set_running_and_biking.json.gz', 'rb')\n",
    "vin = gzip.open('../RunningBikingTrainValidTest/validation_set_running_and_biking.json.gz', 'rb')\n",
    "\n",
    "train_list = []\n",
    "valid_list = []\n",
    "\n",
    "for l in tin:\n",
    "    l = l.decode('ascii')\n",
    "    dic = eval(l)\n",
    "    train_list.append(dic)\n",
    "for l in vin:\n",
    "    l = l.decode('ascii')\n",
    "    dic = eval(l)\n",
    "    valid_list.append(dic)\n",
    "\n",
    "tin.close()\n",
    "vin.close()\n",
    "\n",
    "print(\"done\")"
   ]
  },
  {
   "cell_type": "code",
   "execution_count": 14,
   "metadata": {
    "collapsed": false
   },
   "outputs": [
    {
     "ename": "KeyboardInterrupt",
     "evalue": "",
     "output_type": "error",
     "traceback": [
      "\u001b[0;31m---------------------------------------------------------------------------\u001b[0m",
      "\u001b[0;31mAttributeError\u001b[0m                            Traceback (most recent call last)",
      "\u001b[0;32m/Users/lishuo/anaconda/lib/python3.5/site-packages/numpy/core/fromnumeric.py\u001b[0m in \u001b[0;36mamin\u001b[0;34m(a, axis, out, keepdims)\u001b[0m\n\u001b[1;32m   2350\u001b[0m         \u001b[0;32mtry\u001b[0m\u001b[0;34m:\u001b[0m\u001b[0;34m\u001b[0m\u001b[0m\n\u001b[0;32m-> 2351\u001b[0;31m             \u001b[0mamin\u001b[0m \u001b[0;34m=\u001b[0m \u001b[0ma\u001b[0m\u001b[0;34m.\u001b[0m\u001b[0mmin\u001b[0m\u001b[0;34m\u001b[0m\u001b[0m\n\u001b[0m\u001b[1;32m   2352\u001b[0m         \u001b[0;32mexcept\u001b[0m \u001b[0mAttributeError\u001b[0m\u001b[0;34m:\u001b[0m\u001b[0;34m\u001b[0m\u001b[0m\n",
      "\u001b[0;31mAttributeError\u001b[0m: 'list' object has no attribute 'min'",
      "\nDuring handling of the above exception, another exception occurred:\n",
      "\u001b[0;31mKeyboardInterrupt\u001b[0m                         Traceback (most recent call last)",
      "\u001b[0;32m<ipython-input-14-d0942efb5b68>\u001b[0m in \u001b[0;36m<module>\u001b[0;34m()\u001b[0m\n\u001b[0;32m----> 1\u001b[0;31m \u001b[0mX_train_list\u001b[0m \u001b[0;34m=\u001b[0m \u001b[0mgenerate_features\u001b[0m\u001b[0;34m(\u001b[0m\u001b[0mtrain_list\u001b[0m\u001b[0;34m)\u001b[0m\u001b[0;34m\u001b[0m\u001b[0m\n\u001b[0m\u001b[1;32m      2\u001b[0m \u001b[0my_train_list\u001b[0m \u001b[0;34m=\u001b[0m \u001b[0;34m[\u001b[0m\u001b[0mb\u001b[0m\u001b[0;34m[\u001b[0m\u001b[0;34m'sport'\u001b[0m\u001b[0;34m]\u001b[0m \u001b[0;32mis\u001b[0m \u001b[0;34m'run'\u001b[0m \u001b[0;32mfor\u001b[0m \u001b[0mb\u001b[0m \u001b[0;32min\u001b[0m \u001b[0mtrain_list\u001b[0m\u001b[0;34m]\u001b[0m\u001b[0;34m\u001b[0m\u001b[0m\n\u001b[1;32m      3\u001b[0m \u001b[0mX_valid_list\u001b[0m \u001b[0;34m=\u001b[0m \u001b[0mgenerate_features\u001b[0m\u001b[0;34m(\u001b[0m\u001b[0mvalid_list\u001b[0m\u001b[0;34m)\u001b[0m\u001b[0;34m\u001b[0m\u001b[0m\n\u001b[1;32m      4\u001b[0m \u001b[0my_valid_list\u001b[0m \u001b[0;34m=\u001b[0m \u001b[0;34m[\u001b[0m\u001b[0mb\u001b[0m\u001b[0;34m[\u001b[0m\u001b[0;34m'sport'\u001b[0m\u001b[0;34m]\u001b[0m \u001b[0;32mis\u001b[0m \u001b[0;34m'run'\u001b[0m \u001b[0;32mfor\u001b[0m \u001b[0mb\u001b[0m \u001b[0;32min\u001b[0m \u001b[0mvalid_list\u001b[0m\u001b[0;34m]\u001b[0m\u001b[0;34m\u001b[0m\u001b[0m\n",
      "\u001b[0;32m<ipython-input-1-8abd24866367>\u001b[0m in \u001b[0;36mgenerate_features\u001b[0;34m(data_ist)\u001b[0m\n\u001b[1;32m      8\u001b[0m     \u001b[0;32mfor\u001b[0m \u001b[0mdata\u001b[0m \u001b[0;32min\u001b[0m \u001b[0mdata_ist\u001b[0m\u001b[0;34m:\u001b[0m\u001b[0;34m\u001b[0m\u001b[0m\n\u001b[1;32m      9\u001b[0m         \u001b[0mcurr_features\u001b[0m \u001b[0;34m=\u001b[0m \u001b[0;34m[\u001b[0m\u001b[0;34m]\u001b[0m\u001b[0;34m\u001b[0m\u001b[0m\n\u001b[0;32m---> 10\u001b[0;31m         \u001b[0mcurr_features\u001b[0m\u001b[0;34m.\u001b[0m\u001b[0mappend\u001b[0m\u001b[0;34m(\u001b[0m\u001b[0mnumpy\u001b[0m\u001b[0;34m.\u001b[0m\u001b[0mamin\u001b[0m\u001b[0;34m(\u001b[0m\u001b[0mdata\u001b[0m\u001b[0;34m[\u001b[0m\u001b[0;34m'speed'\u001b[0m\u001b[0;34m]\u001b[0m\u001b[0;34m)\u001b[0m\u001b[0;34m)\u001b[0m\u001b[0;34m\u001b[0m\u001b[0m\n\u001b[0m\u001b[1;32m     11\u001b[0m         \u001b[0mcurr_features\u001b[0m\u001b[0;34m.\u001b[0m\u001b[0mappend\u001b[0m\u001b[0;34m(\u001b[0m\u001b[0mnumpy\u001b[0m\u001b[0;34m.\u001b[0m\u001b[0mmean\u001b[0m\u001b[0;34m(\u001b[0m\u001b[0mdata\u001b[0m\u001b[0;34m[\u001b[0m\u001b[0;34m'speed'\u001b[0m\u001b[0;34m]\u001b[0m\u001b[0;34m)\u001b[0m\u001b[0;34m)\u001b[0m\u001b[0;34m\u001b[0m\u001b[0m\n\u001b[1;32m     12\u001b[0m         \u001b[0mcurr_features\u001b[0m\u001b[0;34m.\u001b[0m\u001b[0mappend\u001b[0m\u001b[0;34m(\u001b[0m\u001b[0mnumpy\u001b[0m\u001b[0;34m.\u001b[0m\u001b[0mamax\u001b[0m\u001b[0;34m(\u001b[0m\u001b[0mdata\u001b[0m\u001b[0;34m[\u001b[0m\u001b[0;34m'speed'\u001b[0m\u001b[0;34m]\u001b[0m\u001b[0;34m)\u001b[0m\u001b[0;34m)\u001b[0m\u001b[0;34m\u001b[0m\u001b[0m\n",
      "\u001b[0;32m/Users/lishuo/anaconda/lib/python3.5/site-packages/numpy/core/fromnumeric.py\u001b[0m in \u001b[0;36mamin\u001b[0;34m(a, axis, out, keepdims)\u001b[0m\n\u001b[1;32m   2352\u001b[0m         \u001b[0;32mexcept\u001b[0m \u001b[0mAttributeError\u001b[0m\u001b[0;34m:\u001b[0m\u001b[0;34m\u001b[0m\u001b[0m\n\u001b[1;32m   2353\u001b[0m             return _methods._amin(a, axis=axis,\n\u001b[0;32m-> 2354\u001b[0;31m                                   out=out, keepdims=keepdims)\n\u001b[0m\u001b[1;32m   2355\u001b[0m         \u001b[0;31m# NOTE: Dropping the keepdims parameter\u001b[0m\u001b[0;34m\u001b[0m\u001b[0;34m\u001b[0m\u001b[0m\n\u001b[1;32m   2356\u001b[0m         \u001b[0;32mreturn\u001b[0m \u001b[0mamin\u001b[0m\u001b[0;34m(\u001b[0m\u001b[0maxis\u001b[0m\u001b[0;34m=\u001b[0m\u001b[0maxis\u001b[0m\u001b[0;34m,\u001b[0m \u001b[0mout\u001b[0m\u001b[0;34m=\u001b[0m\u001b[0mout\u001b[0m\u001b[0;34m)\u001b[0m\u001b[0;34m\u001b[0m\u001b[0m\n",
      "\u001b[0;32m/Users/lishuo/anaconda/lib/python3.5/site-packages/numpy/core/_methods.py\u001b[0m in \u001b[0;36m_amin\u001b[0;34m(a, axis, out, keepdims)\u001b[0m\n\u001b[1;32m     27\u001b[0m \u001b[0;34m\u001b[0m\u001b[0m\n\u001b[1;32m     28\u001b[0m \u001b[0;32mdef\u001b[0m \u001b[0m_amin\u001b[0m\u001b[0;34m(\u001b[0m\u001b[0ma\u001b[0m\u001b[0;34m,\u001b[0m \u001b[0maxis\u001b[0m\u001b[0;34m=\u001b[0m\u001b[0;32mNone\u001b[0m\u001b[0;34m,\u001b[0m \u001b[0mout\u001b[0m\u001b[0;34m=\u001b[0m\u001b[0;32mNone\u001b[0m\u001b[0;34m,\u001b[0m \u001b[0mkeepdims\u001b[0m\u001b[0;34m=\u001b[0m\u001b[0;32mFalse\u001b[0m\u001b[0;34m)\u001b[0m\u001b[0;34m:\u001b[0m\u001b[0;34m\u001b[0m\u001b[0m\n\u001b[0;32m---> 29\u001b[0;31m     \u001b[0;32mreturn\u001b[0m \u001b[0mumr_minimum\u001b[0m\u001b[0;34m(\u001b[0m\u001b[0ma\u001b[0m\u001b[0;34m,\u001b[0m \u001b[0maxis\u001b[0m\u001b[0;34m,\u001b[0m \u001b[0;32mNone\u001b[0m\u001b[0;34m,\u001b[0m \u001b[0mout\u001b[0m\u001b[0;34m,\u001b[0m \u001b[0mkeepdims\u001b[0m\u001b[0;34m)\u001b[0m\u001b[0;34m\u001b[0m\u001b[0m\n\u001b[0m\u001b[1;32m     30\u001b[0m \u001b[0;34m\u001b[0m\u001b[0m\n\u001b[1;32m     31\u001b[0m \u001b[0;32mdef\u001b[0m \u001b[0m_sum\u001b[0m\u001b[0;34m(\u001b[0m\u001b[0ma\u001b[0m\u001b[0;34m,\u001b[0m \u001b[0maxis\u001b[0m\u001b[0;34m=\u001b[0m\u001b[0;32mNone\u001b[0m\u001b[0;34m,\u001b[0m \u001b[0mdtype\u001b[0m\u001b[0;34m=\u001b[0m\u001b[0;32mNone\u001b[0m\u001b[0;34m,\u001b[0m \u001b[0mout\u001b[0m\u001b[0;34m=\u001b[0m\u001b[0;32mNone\u001b[0m\u001b[0;34m,\u001b[0m \u001b[0mkeepdims\u001b[0m\u001b[0;34m=\u001b[0m\u001b[0;32mFalse\u001b[0m\u001b[0;34m)\u001b[0m\u001b[0;34m:\u001b[0m\u001b[0;34m\u001b[0m\u001b[0m\n",
      "\u001b[0;31mKeyboardInterrupt\u001b[0m: "
     ]
    }
   ],
   "source": [
    "X_train_list = generate_features(train_list)\n",
    "y_train_list = [b['sport'] is 'run' for b in train_list]\n",
    "X_valid_list = generate_features(valid_list)\n",
    "y_valid_list = [b['sport'] is 'run' for b in valid_list]"
   ]
  },
  {
   "cell_type": "code",
   "execution_count": 12,
   "metadata": {
    "collapsed": false
   },
   "outputs": [
    {
     "name": "stdout",
     "output_type": "stream",
     "text": [
      "Starting\n",
      "kernel is linear\n",
      "Features are Min, Avg and Max of speed and HR\n",
      "Running for c = 0.001\n",
      "0.975048\t0.974144\n",
      "Running for c = 0.01\n",
      "0.975333\t0.974109\n",
      "Running for c = 0.1\n",
      "0.975378\t0.974109\n",
      "Running for c = 1\n",
      "0.975258\t0.974179\n",
      "Running for c = 2\n",
      "0.975243\t0.974109\n",
      "Running for c = 3\n",
      "0.975078\t0.974109\n",
      "Running for c = 4\n",
      "0.975183\t0.974039\n",
      "Running for c = 5\n",
      "0.975183\t0.974144\n",
      "Running for c = 6\n",
      "0.975168\t0.974109\n",
      "Running for c = 7\n",
      "0.975108\t0.974144\n",
      "Running for c = 8\n",
      "0.975048\t0.974424\n",
      "Running for c = 9\n",
      "0.974868\t0.974424\n",
      "Running for c = 10\n",
      "0.975183\t0.974389\n",
      "Running for c = 100\n",
      "0.974673\t0.974319\n",
      "Running for c = 500\n",
      "0.975033\t0.974459\n",
      "Running for c = 1000\n",
      "0.974868\t0.974459\n",
      "Running for c = 1500\n",
      "0.974898\t0.974319\n",
      "Running for c = 2000\n",
      "0.974673\t0.974354\n"
     ]
    }
   ],
   "source": [
    "print(\"Starting\")\n",
    "print(\"kernel is linear\")\n",
    "print(\"Features are Min, Avg and Max of speed and HR\")\n",
    "\n",
    "c_list = [0.001,0.01,0.1,1,2,3,4,5,6,7,8,9,10, 100, 500, 1000, 1500, 2000]\n",
    "\n",
    "train_errors = []\n",
    "valid_errors = []\n",
    "for c in c_list:\n",
    "    print(\"Running for c = \" + str(c))\n",
    "    clf = svm.SVC(kernel='linear', C=c)\n",
    "    clf.fit(X_train_list, y_train_list)\n",
    "\n",
    "    train_predictions = clf.predict(X_train_list)\n",
    "    valid_predictions = clf.predict(X_valid_list)\n",
    "\n",
    "    train_errors.append(correctness(train_predictions, y_train_list))\n",
    "    valid_errors.append(correctness(valid_predictions, y_valid_list))\n",
    "\n",
    "    print(\"{:.6}\\t{:.6}\".format(train_errors[len(train_errors) - 1], valid_errors[len(valid_errors) - 1]))"
   ]
  },
  {
   "cell_type": "code",
   "execution_count": 13,
   "metadata": {
    "collapsed": false
   },
   "outputs": [
    {
     "name": "stdout",
     "output_type": "stream",
     "text": [
      "Reading data...\n",
      "done\n"
     ]
    }
   ],
   "source": [
    "print(\"Reading data...\")\n",
    "testin = gzip.open('../RunningBikingTrainValidTest/test_set_running_and_biking.json.gz', 'rb')\n",
    "test_list = []\n",
    "for l in testin:\n",
    "    l = l.decode('ascii')\n",
    "    dic = eval(l)\n",
    "    test_list.append(dic)\n",
    "testin.close()\n",
    "print(\"done\")"
   ]
  },
  {
   "cell_type": "code",
   "execution_count": 15,
   "metadata": {
    "collapsed": false
   },
   "outputs": [
    {
     "name": "stdout",
     "output_type": "stream",
     "text": [
      "Testing the running-biking classifier\n",
      "kernel is linear, C is 1000\n",
      "Features are Min, Avg and Max of speed and HR\n",
      "0.9733129703687377\n"
     ]
    }
   ],
   "source": [
    "X_test_list = generate_features(test_list)\n",
    "y_test_list = [b['sport'] is 'run' for b in test_list]\n",
    "\n",
    "print(\"Testing the running-biking classifier\")\n",
    "print(\"kernel is linear, C is 1000\")\n",
    "print(\"Features are Min, Avg and Max of speed and HR\")\n",
    "C_val = 1000\n",
    "\n",
    "# Build the classifier\n",
    "clf = svm.SVC(kernel='linear', C = C_val)\n",
    "clf.fit(X_train_list, y_train_list)\n",
    "\n",
    "test_predictions = clf.predict(X_test_list)\n",
    "test_errors = correctness(test_predictions, y_test_list)\n",
    "print(str(test_errors))"
   ]
  },
  {
   "cell_type": "code",
   "execution_count": null,
   "metadata": {
    "collapsed": true
   },
   "outputs": [],
   "source": []
  }
 ],
 "metadata": {
  "kernelspec": {
   "display_name": "Python [default]",
   "language": "python",
   "name": "python3"
  },
  "language_info": {
   "codemirror_mode": {
    "name": "ipython",
    "version": 3
   },
   "file_extension": ".py",
   "mimetype": "text/x-python",
   "name": "python",
   "nbconvert_exporter": "python",
   "pygments_lexer": "ipython3",
   "version": "3.5.2"
  }
 },
 "nbformat": 4,
 "nbformat_minor": 1
}
