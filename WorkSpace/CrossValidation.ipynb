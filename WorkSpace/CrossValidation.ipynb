{
 "cells": [
  {
   "cell_type": "code",
   "execution_count": null,
   "metadata": {
    "collapsed": false
   },
   "outputs": [
    {
     "name": "stdout",
     "output_type": "stream",
     "text": [
      "Reading data...\n"
     ]
    }
   ],
   "source": [
    "import numpy\n",
    "import urllib.request\n",
    "import scipy.optimize\n",
    "import random\n",
    "from sklearn import svm\n",
    "import gzip\n",
    "\n",
    "print (\"Reading data...\")\n",
    "tin = gzip.open('../RunningBikingTrainValidTest/cross_validation_set_running_and_biking.json.gz', 'rb')\n",
    "\n",
    "train_list = []\n",
    "\n",
    "for l in tin:\n",
    "    l = l.decode('ascii')\n",
    "    dic = eval(l)\n",
    "    train_list.append(dic)\n",
    "\n",
    "print (\"done\")"
   ]
  },
  {
   "cell_type": "code",
   "execution_count": null,
   "metadata": {
    "collapsed": true
   },
   "outputs": [],
   "source": [
    "def generate_features(dataList):\n",
    "    feature_list = []\n",
    "    for data in dataList:\n",
    "        curr_features = []\n",
    "        curr_features.append(numpy.amin(data['speed']))\n",
    "        curr_features.append(numpy.mean(data['speed']))\n",
    "        curr_features.append(numpy.amax(data['speed']))\n",
    "        curr_features.append(numpy.amin(data['heart_rate']))\n",
    "        curr_features.append(numpy.mean(data['heart_rate']))\n",
    "        curr_features.append(numpy.amax(data['heart_rate']))\n",
    "        \n",
    "        feature_list.append(curr_features)\n",
    "    return feature_list"
   ]
  },
  {
   "cell_type": "code",
   "execution_count": null,
   "metadata": {
    "collapsed": true
   },
   "outputs": [],
   "source": [
    "X_train_list = generate_features(train_list)\n",
    "y_train_list = [b['sport'] is 'run' for b in train_list]"
   ]
  },
  {
   "cell_type": "code",
   "execution_count": null,
   "metadata": {
    "collapsed": true
   },
   "outputs": [],
   "source": []
  },
  {
   "cell_type": "code",
   "execution_count": null,
   "metadata": {
    "collapsed": false
   },
   "outputs": [
    {
     "name": "stdout",
     "output_type": "stream",
     "text": [
      "Starting\n",
      "kernel is linear\n"
     ]
    }
   ],
   "source": [
    "print(\"Starting\")\n",
    "from sklearn.model_selection import cross_val_score\n",
    "\n",
    "print(\"kernel is linear\")\n",
    "for i in range(-3,11):\n",
    "    clf = svm.SVC(kernel = 'linear', C = 2**i)\n",
    "    scores = cross_val_score(clf, X_train_list, y_train_list, cv = 10)\n",
    "    \n",
    "    print(\"C is %d\"%C)\n",
    "    print(scores)\n",
    "    print(\"Accuracy: %0.2f (+/- %0.2f)\" % (scores.mean(), scores.std() * 2))\n",
    "    print()"
   ]
  },
  {
   "cell_type": "code",
   "execution_count": null,
   "metadata": {
    "collapsed": true
   },
   "outputs": [],
   "source": [
    "print(\"kernel is rbf\")\n",
    "for i in range(-3,11):\n",
    "    clf = svm.SVC(C = 2**i)\n",
    "    scores = cross_val_score(clf, X_train_list, y_train_list, cv = 10)\n",
    "    \n",
    "    print(\"C is %d\"%C)\n",
    "    print(scores)\n",
    "    print(\"Accuracy: %0.2f (+/- %0.2f)\" % (scores.mean(), scores.std() * 2))\n",
    "    print()"
   ]
  },
  {
   "cell_type": "code",
   "execution_count": null,
   "metadata": {
    "collapsed": true
   },
   "outputs": [],
   "source": [
    "print(\"kernel is poly\")\n",
    "for i in range(-3,11):\n",
    "    clf = svm.SVC(kernel = 'poly', C = 2**i)\n",
    "    scores = cross_val_score(clf, X_train_list, y_train_list, cv = 10)\n",
    "    \n",
    "    print(\"C is %d\"%C)\n",
    "    print(scores)\n",
    "    print(\"Accuracy: %0.2f (+/- %0.2f)\" % (scores.mean(), scores.std() * 2))\n",
    "    print()"
   ]
  },
  {
   "cell_type": "code",
   "execution_count": null,
   "metadata": {
    "collapsed": true
   },
   "outputs": [],
   "source": [
    "print(\"kernel is sigmoid\")\n",
    "for i in range(-3,11):\n",
    "    clf = svm.SVC(kernel = 'sigmoid', C = 2**i)\n",
    "    scores = cross_val_score(clf, X_train_list, y_train_list, cv = 10)\n",
    "    \n",
    "    print(\"C is %d\"%C)\n",
    "    print(scores)\n",
    "    print(\"Accuracy: %0.2f (+/- %0.2f)\" % (scores.mean(), scores.std() * 2))\n",
    "    print()"
   ]
  },
  {
   "cell_type": "code",
   "execution_count": null,
   "metadata": {
    "collapsed": true
   },
   "outputs": [],
   "source": []
  }
 ],
 "metadata": {
  "anaconda-cloud": {},
  "kernelspec": {
   "display_name": "Python [default]",
   "language": "python",
   "name": "python3"
  },
  "language_info": {
   "codemirror_mode": {
    "name": "ipython",
    "version": 3
   },
   "file_extension": ".py",
   "mimetype": "text/x-python",
   "name": "python",
   "nbconvert_exporter": "python",
   "pygments_lexer": "ipython3",
   "version": "3.5.2"
  }
 },
 "nbformat": 4,
 "nbformat_minor": 1
}
