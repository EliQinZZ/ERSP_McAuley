{
 "cells": [
  {
   "cell_type": "code",
   "execution_count": 5,
   "metadata": {
    "collapsed": false
   },
   "outputs": [],
   "source": [
    "import gzip\n",
    "import numpy\n",
    "import matplotlib.pyplot as plt"
   ]
  },
  {
   "cell_type": "code",
   "execution_count": 2,
   "metadata": {
    "collapsed": true
   },
   "outputs": [],
   "source": [
    "zin = gzip.open('../Data/endomondoHR.json.gz', 'r')\n",
    "maxHRs = []\n",
    "for l in zin:\n",
    "    l = l.decode()\n",
    "    dic = eval(l)\n",
    "    \n",
    "    maxHRs.append(numpy.amax(dic['heart_rate']))\n",
    "\n",
    "sort = sorted(maxHRs)"
   ]
  },
  {
   "cell_type": "code",
   "execution_count": 42,
   "metadata": {
    "collapsed": false
   },
   "outputs": [],
   "source": [
    "total = len(maxHRs)"
   ]
  },
  {
   "cell_type": "code",
   "execution_count": 43,
   "metadata": {
    "collapsed": false
   },
   "outputs": [
    {
     "data": {
      "image/png": "[encoded data removed]",
      "text/plain": [
       "<matplotlib.figure.Figure at 0x10fb36908>"
      ]
     },
     "metadata": {},
     "output_type": "display_data"
    }
   ],
   "source": [
    "plt.plot(sort)\n",
    "plt.show()"
   ]
  },
  {
   "cell_type": "code",
   "execution_count": 44,
   "metadata": {
    "collapsed": false,
    "scrolled": true
   },
   "outputs": [
    {
     "data": {
      "image/png": "[encoded data removed]",
      "text/plain": [
       "<matplotlib.figure.Figure at 0x10fb53908>"
      ]
     },
     "metadata": {},
     "output_type": "display_data"
    }
   ],
   "source": [
    "plt.plot(sort)\n",
    "plt.axis([0, total - 1, 0, 300])\n",
    "plt.show()"
   ]
  },
  {
   "cell_type": "code",
   "execution_count": 45,
   "metadata": {
    "collapsed": false,
    "scrolled": false
   },
   "outputs": [
    {
     "name": "stdout",
     "output_type": "stream",
     "text": [
      "Highest max_heart_rate is 18514, lowest max_heart_rate is -135\n",
      "%99 of the data is in range [84, 243]\n",
      "%98 of the data is in range [102, 232]\n",
      "%97 of the data is in range [109, 222]\n",
      "%96 of the data is in range [114, 214]\n",
      "%95 of the data is in range [118, 207]\n",
      "%90 of the data is in range [129, 194]\n"
     ]
    }
   ],
   "source": [
    "print('Highest max_heart_rate is {}, lowest max_heart_rate is {}'.format(sort[total - 1], sort[0]))\n",
    "print('%99 of the data is in range [{}, {}]'.format(sort[int(total * 0.005)], sort[int(total * 0.995)]))\n",
    "print('%98 of the data is in range [{}, {}]'.format(sort[int(total * 0.01)], sort[int(total * 0.99)]))\n",
    "print('%97 of the data is in range [{}, {}]'.format(sort[int(total * 0.015)], sort[int(total * 0.985)]))\n",
    "print('%96 of the data is in range [{}, {}]'.format(sort[int(total * 0.02)], sort[int(total * 0.98)]))\n",
    "print('%95 of the data is in range [{}, {}]'.format(sort[int(total * 0.025)], sort[int(total * 0.975)]))\n",
    "print('%90 of the data is in range [{}, {}]'.format(sort[int(total * 0.05)], sort[int(total * 0.95)]))"
   ]
  },
  {
   "cell_type": "code",
   "execution_count": null,
   "metadata": {
    "collapsed": true
   },
   "outputs": [],
   "source": []
  }
 ],
 "metadata": {
  "anaconda-cloud": {},
  "kernelspec": {
   "display_name": "Python [default]",
   "language": "python",
   "name": "python3"
  },
  "language_info": {
   "codemirror_mode": {
    "name": "ipython",
    "version": 3
   },
   "file_extension": ".py",
   "mimetype": "text/x-python",
   "name": "python",
   "nbconvert_exporter": "python",
   "pygments_lexer": "ipython3",
   "version": "3.5.2"
  }
 },
 "nbformat": 4,
 "nbformat_minor": 1
}
